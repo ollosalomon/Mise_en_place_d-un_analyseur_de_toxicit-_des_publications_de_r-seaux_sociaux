{
  "nbformat": 4,
  "nbformat_minor": 0,
  "metadata": {
    "colab": {
      "provenance": []
    },
    "kernelspec": {
      "name": "python3",
      "display_name": "Python 3"
    },
    "language_info": {
      "name": "python"
    },
    "accelerator": "GPU",
    "gpuClass": "standard"
  },
  "cells": [
    {
      "cell_type": "code",
      "source": [
        "cd \"/content/file\""
      ],
      "metadata": {
        "colab": {
          "base_uri": "https://localhost:8080/"
        },
        "id": "WmUFHKiMku98",
        "outputId": "20c884c4-cde6-4e99-9b64-80149c7f6444"
      },
      "execution_count": 38,
      "outputs": [
        {
          "output_type": "stream",
          "name": "stdout",
          "text": [
            "/content/file\n"
          ]
        }
      ]
    },
    {
      "cell_type": "code",
      "source": [
        "from google.colab import drive\n",
        "drive.mount('/content/drive')"
      ],
      "metadata": {
        "colab": {
          "base_uri": "https://localhost:8080/"
        },
        "id": "Q8MZb1V2ZqGH",
        "outputId": "0292afbe-661f-428e-a7fe-66a2e100c5c7"
      },
      "execution_count": 1,
      "outputs": [
        {
          "output_type": "stream",
          "name": "stdout",
          "text": [
            "Mounted at /content/drive\n"
          ]
        }
      ]
    },
    {
      "cell_type": "code",
      "source": [
        "\n",
        "\n",
        "import torch\n",
        "\n",
        "device = torch.device(\"cuda\" if torch.cuda.is_available() else \"cpu\")\n",
        "device"
      ],
      "metadata": {
        "colab": {
          "base_uri": "https://localhost:8080/"
        },
        "id": "9M1CFKeKZ551",
        "outputId": "45167699-ac5e-4a8a-e798-4bb187f2f91b"
      },
      "execution_count": 2,
      "outputs": [
        {
          "output_type": "execute_result",
          "data": {
            "text/plain": [
              "device(type='cuda')"
            ]
          },
          "metadata": {},
          "execution_count": 2
        }
      ]
    },
    {
      "cell_type": "code",
      "source": [
        "!pip install -q snscrape==0.3.4"
      ],
      "metadata": {
        "id": "v3pVgrMzZuCG"
      },
      "execution_count": 3,
      "outputs": []
    },
    {
      "cell_type": "code",
      "metadata": {
        "id": "nD7B3adiubGG"
      },
      "source": [
        "import os\n",
        "import pandas as pd\n",
        "from datetime import date"
      ],
      "execution_count": 4,
      "outputs": []
    },
    {
      "cell_type": "code",
      "metadata": {
        "id": "uNhZNSNavwGQ"
      },
      "source": [
        "today = date.today()\n",
        "end_date = today\n",
        "search_term = '#harcelement'\n",
        "from_date = '2022-01-01'\n",
        "max_results = 1000"
      ],
      "execution_count": 11,
      "outputs": []
    },
    {
      "cell_type": "markdown",
      "metadata": {
        "id": "iFN4VxqK4KDU"
      },
      "source": [
        "# Extraction des tweets avec le mot clé harcelement"
      ]
    },
    {
      "cell_type": "code",
      "metadata": {
        "id": "AWseHfDmwYCw"
      },
      "source": [
        "extracted_tweets = \"snscrape --format '{content!r}'\"+ f\" --max-results {max_results} --since {from_date} twitter-search '{search_term} until:{end_date}' > /content/harcele.txt\"\n",
        "os.system(extracted_tweets)\n",
        "if os.stat(\"/content/harcele.txt\").st_size == 0:\n",
        "  print('No Tweets found')\n",
        "else:\n",
        "  df = pd.read_csv('/content/harcele.txt', names=['content'])\n",
        "  for row in df['content'].iteritems():\n",
        "    print(row)"
      ],
      "execution_count": null,
      "outputs": []
    },
    {
      "cell_type": "markdown",
      "source": [
        "# **Labelisation**"
      ],
      "metadata": {
        "id": "LimXd0jrAj3Z"
      }
    },
    {
      "cell_type": "code",
      "source": [
        "# install detoxify\n",
        "\n",
        "!pip install detoxify\n"
      ],
      "metadata": {
        "colab": {
          "base_uri": "https://localhost:8080/"
        },
        "id": "KJSp_gAzAiZi",
        "outputId": "021cec7c-1f8a-46af-c82b-8614dcac2553"
      },
      "execution_count": null,
      "outputs": [
        {
          "output_type": "stream",
          "name": "stdout",
          "text": [
            "Successfully installed detoxify-0.5.1 huggingface-hub-0.11.1 sentencepiece-0.1.97 tokenizers-0.12.1 transformers-4.22.1\n"
          ]
        }
      ]
    },
    {
      "cell_type": "code",
      "source": [
        "from detoxify import Detoxify\n",
        "import pandas as pd\n"
      ],
      "metadata": {
        "id": "wnSvBH7hGV8K"
      },
      "execution_count": null,
      "outputs": []
    },
    {
      "cell_type": "code",
      "source": [
        "import torch\n",
        "\n",
        "device = torch.device(\"cuda\" if torch.cuda.is_available() else \"cpu\")\n",
        "device"
      ],
      "metadata": {
        "colab": {
          "base_uri": "https://localhost:8080/"
        },
        "id": "pINtf7kNlZXB",
        "outputId": "2f261d9d-5002-4f2d-a845-fbdf90f47396"
      },
      "execution_count": null,
      "outputs": [
        {
          "output_type": "execute_result",
          "data": {
            "text/plain": [
              "device(type='cuda')"
            ]
          },
          "metadata": {},
          "execution_count": 25
        }
      ]
    },
    {
      "cell_type": "code",
      "source": [
        "df = pd.read_fwf(\"/content/drive/MyDrive/Journee_observation/harcele.txt\")\n",
        "df = df[[\"Texte\"]]\n",
        "df"
      ],
      "metadata": {
        "colab": {
          "base_uri": "https://localhost:8080/",
          "height": 423
        },
        "id": "69j4tOfXGvzM",
        "outputId": "38e63d79-468b-4f5a-dc37-a2a8a4ceaa50"
      },
      "execution_count": null,
      "outputs": [
        {
          "output_type": "execute_result",
          "data": {
            "text/plain": [
              "                                                  Texte\n",
              "0     '#harcèlement judiciaire contre #lecourrierdes...\n",
              "1     '#zidane #harcelement #micronouvelle https://t...\n",
              "2     \"@TF1Info @TF1 @FondHopitaux @GillesBouleau @p...\n",
              "3     '@carambar_2024 @MatthieuMERIOT Passe ton chem...\n",
              "4     'Voilà !! \\n\\n#cynthiaargaillot à copié ces mé...\n",
              "...                                                 ...\n",
              "9993  \"#ChiffreClé | 1️⃣ femme sur 6️⃣ dans le monde...\n",
              "9994  \"Où sont dc passée l indignation de ces femmes...\n",
              "9995  '@booba @MagaliBerdah Tu ne fais guerre mieux ...\n",
              "9996  \"Marc Blata ,qui parle de qui est véritablemen...\n",
              "9997  \"Quand on vous dit que les vrais victimes de l...\n",
              "\n",
              "[9998 rows x 1 columns]"
            ],
            "text/html": [
              "\n",
              "  <div id=\"df-ea88fddb-6769-4375-8f81-de07448f626a\">\n",
              "    <div class=\"colab-df-container\">\n",
              "      <div>\n",
              "<style scoped>\n",
              "    .dataframe tbody tr th:only-of-type {\n",
              "        vertical-align: middle;\n",
              "    }\n",
              "\n",
              "    .dataframe tbody tr th {\n",
              "        vertical-align: top;\n",
              "    }\n",
              "\n",
              "    .dataframe thead th {\n",
              "        text-align: right;\n",
              "    }\n",
              "</style>\n",
              "<table border=\"1\" class=\"dataframe\">\n",
              "  <thead>\n",
              "    <tr style=\"text-align: right;\">\n",
              "      <th></th>\n",
              "      <th>Texte</th>\n",
              "    </tr>\n",
              "  </thead>\n",
              "  <tbody>\n",
              "    <tr>\n",
              "      <th>0</th>\n",
              "      <td>'#harcèlement judiciaire contre #lecourrierdes...</td>\n",
              "    </tr>\n",
              "    <tr>\n",
              "      <th>1</th>\n",
              "      <td>'#zidane #harcelement #micronouvelle https://t...</td>\n",
              "    </tr>\n",
              "    <tr>\n",
              "      <th>2</th>\n",
              "      <td>\"@TF1Info @TF1 @FondHopitaux @GillesBouleau @p...</td>\n",
              "    </tr>\n",
              "    <tr>\n",
              "      <th>3</th>\n",
              "      <td>'@carambar_2024 @MatthieuMERIOT Passe ton chem...</td>\n",
              "    </tr>\n",
              "    <tr>\n",
              "      <th>4</th>\n",
              "      <td>'Voilà !! \\n\\n#cynthiaargaillot à copié ces mé...</td>\n",
              "    </tr>\n",
              "    <tr>\n",
              "      <th>...</th>\n",
              "      <td>...</td>\n",
              "    </tr>\n",
              "    <tr>\n",
              "      <th>9993</th>\n",
              "      <td>\"#ChiffreClé | 1️⃣ femme sur 6️⃣ dans le monde...</td>\n",
              "    </tr>\n",
              "    <tr>\n",
              "      <th>9994</th>\n",
              "      <td>\"Où sont dc passée l indignation de ces femmes...</td>\n",
              "    </tr>\n",
              "    <tr>\n",
              "      <th>9995</th>\n",
              "      <td>'@booba @MagaliBerdah Tu ne fais guerre mieux ...</td>\n",
              "    </tr>\n",
              "    <tr>\n",
              "      <th>9996</th>\n",
              "      <td>\"Marc Blata ,qui parle de qui est véritablemen...</td>\n",
              "    </tr>\n",
              "    <tr>\n",
              "      <th>9997</th>\n",
              "      <td>\"Quand on vous dit que les vrais victimes de l...</td>\n",
              "    </tr>\n",
              "  </tbody>\n",
              "</table>\n",
              "<p>9998 rows × 1 columns</p>\n",
              "</div>\n",
              "      <button class=\"colab-df-convert\" onclick=\"convertToInteractive('df-ea88fddb-6769-4375-8f81-de07448f626a')\"\n",
              "              title=\"Convert this dataframe to an interactive table.\"\n",
              "              style=\"display:none;\">\n",
              "        \n",
              "  <svg xmlns=\"http://www.w3.org/2000/svg\" height=\"24px\"viewBox=\"0 0 24 24\"\n",
              "       width=\"24px\">\n",
              "    <path d=\"M0 0h24v24H0V0z\" fill=\"none\"/>\n",
              "    <path d=\"M18.56 5.44l.94 2.06.94-2.06 2.06-.94-2.06-.94-.94-2.06-.94 2.06-2.06.94zm-11 1L8.5 8.5l.94-2.06 2.06-.94-2.06-.94L8.5 2.5l-.94 2.06-2.06.94zm10 10l.94 2.06.94-2.06 2.06-.94-2.06-.94-.94-2.06-.94 2.06-2.06.94z\"/><path d=\"M17.41 7.96l-1.37-1.37c-.4-.4-.92-.59-1.43-.59-.52 0-1.04.2-1.43.59L10.3 9.45l-7.72 7.72c-.78.78-.78 2.05 0 2.83L4 21.41c.39.39.9.59 1.41.59.51 0 1.02-.2 1.41-.59l7.78-7.78 2.81-2.81c.8-.78.8-2.07 0-2.86zM5.41 20L4 18.59l7.72-7.72 1.47 1.35L5.41 20z\"/>\n",
              "  </svg>\n",
              "      </button>\n",
              "      \n",
              "  <style>\n",
              "    .colab-df-container {\n",
              "      display:flex;\n",
              "      flex-wrap:wrap;\n",
              "      gap: 12px;\n",
              "    }\n",
              "\n",
              "    .colab-df-convert {\n",
              "      background-color: #E8F0FE;\n",
              "      border: none;\n",
              "      border-radius: 50%;\n",
              "      cursor: pointer;\n",
              "      display: none;\n",
              "      fill: #1967D2;\n",
              "      height: 32px;\n",
              "      padding: 0 0 0 0;\n",
              "      width: 32px;\n",
              "    }\n",
              "\n",
              "    .colab-df-convert:hover {\n",
              "      background-color: #E2EBFA;\n",
              "      box-shadow: 0px 1px 2px rgba(60, 64, 67, 0.3), 0px 1px 3px 1px rgba(60, 64, 67, 0.15);\n",
              "      fill: #174EA6;\n",
              "    }\n",
              "\n",
              "    [theme=dark] .colab-df-convert {\n",
              "      background-color: #3B4455;\n",
              "      fill: #D2E3FC;\n",
              "    }\n",
              "\n",
              "    [theme=dark] .colab-df-convert:hover {\n",
              "      background-color: #434B5C;\n",
              "      box-shadow: 0px 1px 3px 1px rgba(0, 0, 0, 0.15);\n",
              "      filter: drop-shadow(0px 1px 2px rgba(0, 0, 0, 0.3));\n",
              "      fill: #FFFFFF;\n",
              "    }\n",
              "  </style>\n",
              "\n",
              "      <script>\n",
              "        const buttonEl =\n",
              "          document.querySelector('#df-ea88fddb-6769-4375-8f81-de07448f626a button.colab-df-convert');\n",
              "        buttonEl.style.display =\n",
              "          google.colab.kernel.accessAllowed ? 'block' : 'none';\n",
              "\n",
              "        async function convertToInteractive(key) {\n",
              "          const element = document.querySelector('#df-ea88fddb-6769-4375-8f81-de07448f626a');\n",
              "          const dataTable =\n",
              "            await google.colab.kernel.invokeFunction('convertToInteractive',\n",
              "                                                     [key], {});\n",
              "          if (!dataTable) return;\n",
              "\n",
              "          const docLinkHtml = 'Like what you see? Visit the ' +\n",
              "            '<a target=\"_blank\" href=https://colab.research.google.com/notebooks/data_table.ipynb>data table notebook</a>'\n",
              "            + ' to learn more about interactive tables.';\n",
              "          element.innerHTML = '';\n",
              "          dataTable['output_type'] = 'display_data';\n",
              "          await google.colab.output.renderOutput(dataTable, element);\n",
              "          const docLink = document.createElement('div');\n",
              "          docLink.innerHTML = docLinkHtml;\n",
              "          element.appendChild(docLink);\n",
              "        }\n",
              "      </script>\n",
              "    </div>\n",
              "  </div>\n",
              "  "
            ]
          },
          "metadata": {},
          "execution_count": 71
        }
      ]
    },
    {
      "cell_type": "code",
      "source": [
        "df.isna().sum()"
      ],
      "metadata": {
        "colab": {
          "base_uri": "https://localhost:8080/"
        },
        "id": "33mcoapDl7Tx",
        "outputId": "1593fde9-a8b6-4124-db66-564d0bec01b9"
      },
      "execution_count": null,
      "outputs": [
        {
          "output_type": "execute_result",
          "data": {
            "text/plain": [
              "Texte    0\n",
              "dtype: int64"
            ]
          },
          "metadata": {},
          "execution_count": 21
        }
      ]
    },
    {
      "cell_type": "code",
      "source": [
        "\n",
        "detox = Detoxify('original', device='cuda')\n",
        "\n",
        "for index, row in df.iterrows():\n",
        "    text = row[\"Texte\"]\n",
        "    output = detox.predict(text)\n",
        "    for cle, valeur in output.items():\n",
        "      if cle == \"toxicity\" and valeur >=0.001:\n",
        "        df.at[index, \"label\"] = 1\n",
        "      elif cle== \"identity_attack\" and valeur <0.001:\n",
        "        df.at[index, \"label\"] = 0"
      ],
      "metadata": {
        "id": "fU2AkEBsHVRi"
      },
      "execution_count": null,
      "outputs": []
    },
    {
      "cell_type": "code",
      "source": [
        "cd \"/content/drive/MyDrive/Journee_observation\""
      ],
      "metadata": {
        "colab": {
          "base_uri": "https://localhost:8080/"
        },
        "id": "UD51x-_Bsxoz",
        "outputId": "959432d2-2986-4b92-ac5a-e7b0900c96ad"
      },
      "execution_count": null,
      "outputs": [
        {
          "output_type": "stream",
          "name": "stdout",
          "text": [
            "/content/drive/MyDrive/Journee_observation\n"
          ]
        }
      ]
    },
    {
      "cell_type": "code",
      "source": [
        "df.to_csv(\"data.csv\")"
      ],
      "metadata": {
        "id": "HANovK6KivvT"
      },
      "execution_count": null,
      "outputs": []
    },
    {
      "cell_type": "code",
      "source": [],
      "metadata": {
        "id": "Cx9R-EHtdAr7"
      },
      "execution_count": 16,
      "outputs": []
    },
    {
      "cell_type": "markdown",
      "source": [
        "**Importer les données dans une base de donnée mongodb**"
      ],
      "metadata": {
        "id": "SyiKZnWSkHkL"
      }
    },
    {
      "cell_type": "code",
      "source": [
        "import pandas as pd\n",
        "import json\n",
        "from pymongo import MongoClient\n",
        "import pymongo\n",
        "import requests\n",
        "from time import sleep\n",
        "import urllib.request\n",
        "import os\n",
        "\n",
        "def mongoimport(csv_path, db_name, coll_name, db_url='localhost', db_port=27017):\n",
        "\n",
        "\n",
        "    client = MongoClient(db_url, db_port)\n",
        "    db = client[db_name]\n",
        "    coll = db[coll_name]\n",
        "    data = pd.read_csv(csv_path)\n",
        "    payload = json.loads(data.to_json(orient='records'))\n",
        "    coll.insert_many(payload)\n",
        "    return coll.count()"
      ],
      "metadata": {
        "id": "1nIQFNHSc3BL"
      },
      "execution_count": 33,
      "outputs": []
    },
    {
      "cell_type": "code",
      "source": [
        "csv_path = \"/content/drive/MyDrive/Journee_observation/data.csv\"\n",
        "\n",
        "db_name = \"Ollodata\"\n",
        "coll_name = \"twitter\"\n",
        "\n",
        "mongoimport(csv_path, db_name, coll_name, db_url='localhost', db_port=27017)"
      ],
      "metadata": {
        "id": "7WQrmWztiIFt"
      },
      "execution_count": null,
      "outputs": []
    },
    {
      "cell_type": "markdown",
      "source": [
        "# **EDA**"
      ],
      "metadata": {
        "id": "6FGqv-YCnAXS"
      }
    },
    {
      "cell_type": "code",
      "source": [
        "import pandas as pd\n",
        "import numpy as np"
      ],
      "metadata": {
        "id": "NiiW2Ef0wla6"
      },
      "execution_count": 13,
      "outputs": []
    },
    {
      "cell_type": "code",
      "source": [
        "df = pd.read_csv(\"/content/drive/MyDrive/Journee_observation/data.csv\")\n",
        "df = df[[\"Texte\",\"label\"]]\n",
        "df"
      ],
      "metadata": {
        "colab": {
          "base_uri": "https://localhost:8080/",
          "height": 423
        },
        "id": "dMIJE1mMnkHC",
        "outputId": "242ae816-d1a1-48f1-bb21-52f210c276af"
      },
      "execution_count": 14,
      "outputs": [
        {
          "output_type": "execute_result",
          "data": {
            "text/plain": [
              "                                                  Texte  label\n",
              "0     '#harcèlement judiciaire contre #lecourrierdes...    0.0\n",
              "1     '#zidane #harcelement #micronouvelle https://t...    0.0\n",
              "2     \"@TF1Info @TF1 @FondHopitaux @GillesBouleau @p...    0.0\n",
              "3     '@carambar_2024 @MatthieuMERIOT Passe ton chem...    0.0\n",
              "4     'Voilà !! \\n\\n#cynthiaargaillot à copié ces mé...    1.0\n",
              "...                                                 ...    ...\n",
              "9993  \"#ChiffreClé | 1️⃣ femme sur 6️⃣ dans le monde...    0.0\n",
              "9994  \"Où sont dc passée l indignation de ces femmes...    0.0\n",
              "9995  '@booba @MagaliBerdah Tu ne fais guerre mieux ...    0.0\n",
              "9996  \"Marc Blata ,qui parle de qui est véritablemen...    0.0\n",
              "9997  \"Quand on vous dit que les vrais victimes de l...    0.0\n",
              "\n",
              "[9998 rows x 2 columns]"
            ],
            "text/html": [
              "\n",
              "  <div id=\"df-9ddecb4e-0033-480d-9588-fa2f770b7cd8\">\n",
              "    <div class=\"colab-df-container\">\n",
              "      <div>\n",
              "<style scoped>\n",
              "    .dataframe tbody tr th:only-of-type {\n",
              "        vertical-align: middle;\n",
              "    }\n",
              "\n",
              "    .dataframe tbody tr th {\n",
              "        vertical-align: top;\n",
              "    }\n",
              "\n",
              "    .dataframe thead th {\n",
              "        text-align: right;\n",
              "    }\n",
              "</style>\n",
              "<table border=\"1\" class=\"dataframe\">\n",
              "  <thead>\n",
              "    <tr style=\"text-align: right;\">\n",
              "      <th></th>\n",
              "      <th>Texte</th>\n",
              "      <th>label</th>\n",
              "    </tr>\n",
              "  </thead>\n",
              "  <tbody>\n",
              "    <tr>\n",
              "      <th>0</th>\n",
              "      <td>'#harcèlement judiciaire contre #lecourrierdes...</td>\n",
              "      <td>0.0</td>\n",
              "    </tr>\n",
              "    <tr>\n",
              "      <th>1</th>\n",
              "      <td>'#zidane #harcelement #micronouvelle https://t...</td>\n",
              "      <td>0.0</td>\n",
              "    </tr>\n",
              "    <tr>\n",
              "      <th>2</th>\n",
              "      <td>\"@TF1Info @TF1 @FondHopitaux @GillesBouleau @p...</td>\n",
              "      <td>0.0</td>\n",
              "    </tr>\n",
              "    <tr>\n",
              "      <th>3</th>\n",
              "      <td>'@carambar_2024 @MatthieuMERIOT Passe ton chem...</td>\n",
              "      <td>0.0</td>\n",
              "    </tr>\n",
              "    <tr>\n",
              "      <th>4</th>\n",
              "      <td>'Voilà !! \\n\\n#cynthiaargaillot à copié ces mé...</td>\n",
              "      <td>1.0</td>\n",
              "    </tr>\n",
              "    <tr>\n",
              "      <th>...</th>\n",
              "      <td>...</td>\n",
              "      <td>...</td>\n",
              "    </tr>\n",
              "    <tr>\n",
              "      <th>9993</th>\n",
              "      <td>\"#ChiffreClé | 1️⃣ femme sur 6️⃣ dans le monde...</td>\n",
              "      <td>0.0</td>\n",
              "    </tr>\n",
              "    <tr>\n",
              "      <th>9994</th>\n",
              "      <td>\"Où sont dc passée l indignation de ces femmes...</td>\n",
              "      <td>0.0</td>\n",
              "    </tr>\n",
              "    <tr>\n",
              "      <th>9995</th>\n",
              "      <td>'@booba @MagaliBerdah Tu ne fais guerre mieux ...</td>\n",
              "      <td>0.0</td>\n",
              "    </tr>\n",
              "    <tr>\n",
              "      <th>9996</th>\n",
              "      <td>\"Marc Blata ,qui parle de qui est véritablemen...</td>\n",
              "      <td>0.0</td>\n",
              "    </tr>\n",
              "    <tr>\n",
              "      <th>9997</th>\n",
              "      <td>\"Quand on vous dit que les vrais victimes de l...</td>\n",
              "      <td>0.0</td>\n",
              "    </tr>\n",
              "  </tbody>\n",
              "</table>\n",
              "<p>9998 rows × 2 columns</p>\n",
              "</div>\n",
              "      <button class=\"colab-df-convert\" onclick=\"convertToInteractive('df-9ddecb4e-0033-480d-9588-fa2f770b7cd8')\"\n",
              "              title=\"Convert this dataframe to an interactive table.\"\n",
              "              style=\"display:none;\">\n",
              "        \n",
              "  <svg xmlns=\"http://www.w3.org/2000/svg\" height=\"24px\"viewBox=\"0 0 24 24\"\n",
              "       width=\"24px\">\n",
              "    <path d=\"M0 0h24v24H0V0z\" fill=\"none\"/>\n",
              "    <path d=\"M18.56 5.44l.94 2.06.94-2.06 2.06-.94-2.06-.94-.94-2.06-.94 2.06-2.06.94zm-11 1L8.5 8.5l.94-2.06 2.06-.94-2.06-.94L8.5 2.5l-.94 2.06-2.06.94zm10 10l.94 2.06.94-2.06 2.06-.94-2.06-.94-.94-2.06-.94 2.06-2.06.94z\"/><path d=\"M17.41 7.96l-1.37-1.37c-.4-.4-.92-.59-1.43-.59-.52 0-1.04.2-1.43.59L10.3 9.45l-7.72 7.72c-.78.78-.78 2.05 0 2.83L4 21.41c.39.39.9.59 1.41.59.51 0 1.02-.2 1.41-.59l7.78-7.78 2.81-2.81c.8-.78.8-2.07 0-2.86zM5.41 20L4 18.59l7.72-7.72 1.47 1.35L5.41 20z\"/>\n",
              "  </svg>\n",
              "      </button>\n",
              "      \n",
              "  <style>\n",
              "    .colab-df-container {\n",
              "      display:flex;\n",
              "      flex-wrap:wrap;\n",
              "      gap: 12px;\n",
              "    }\n",
              "\n",
              "    .colab-df-convert {\n",
              "      background-color: #E8F0FE;\n",
              "      border: none;\n",
              "      border-radius: 50%;\n",
              "      cursor: pointer;\n",
              "      display: none;\n",
              "      fill: #1967D2;\n",
              "      height: 32px;\n",
              "      padding: 0 0 0 0;\n",
              "      width: 32px;\n",
              "    }\n",
              "\n",
              "    .colab-df-convert:hover {\n",
              "      background-color: #E2EBFA;\n",
              "      box-shadow: 0px 1px 2px rgba(60, 64, 67, 0.3), 0px 1px 3px 1px rgba(60, 64, 67, 0.15);\n",
              "      fill: #174EA6;\n",
              "    }\n",
              "\n",
              "    [theme=dark] .colab-df-convert {\n",
              "      background-color: #3B4455;\n",
              "      fill: #D2E3FC;\n",
              "    }\n",
              "\n",
              "    [theme=dark] .colab-df-convert:hover {\n",
              "      background-color: #434B5C;\n",
              "      box-shadow: 0px 1px 3px 1px rgba(0, 0, 0, 0.15);\n",
              "      filter: drop-shadow(0px 1px 2px rgba(0, 0, 0, 0.3));\n",
              "      fill: #FFFFFF;\n",
              "    }\n",
              "  </style>\n",
              "\n",
              "      <script>\n",
              "        const buttonEl =\n",
              "          document.querySelector('#df-9ddecb4e-0033-480d-9588-fa2f770b7cd8 button.colab-df-convert');\n",
              "        buttonEl.style.display =\n",
              "          google.colab.kernel.accessAllowed ? 'block' : 'none';\n",
              "\n",
              "        async function convertToInteractive(key) {\n",
              "          const element = document.querySelector('#df-9ddecb4e-0033-480d-9588-fa2f770b7cd8');\n",
              "          const dataTable =\n",
              "            await google.colab.kernel.invokeFunction('convertToInteractive',\n",
              "                                                     [key], {});\n",
              "          if (!dataTable) return;\n",
              "\n",
              "          const docLinkHtml = 'Like what you see? Visit the ' +\n",
              "            '<a target=\"_blank\" href=https://colab.research.google.com/notebooks/data_table.ipynb>data table notebook</a>'\n",
              "            + ' to learn more about interactive tables.';\n",
              "          element.innerHTML = '';\n",
              "          dataTable['output_type'] = 'display_data';\n",
              "          await google.colab.output.renderOutput(dataTable, element);\n",
              "          const docLink = document.createElement('div');\n",
              "          docLink.innerHTML = docLinkHtml;\n",
              "          element.appendChild(docLink);\n",
              "        }\n",
              "      </script>\n",
              "    </div>\n",
              "  </div>\n",
              "  "
            ]
          },
          "metadata": {},
          "execution_count": 14
        }
      ]
    },
    {
      "cell_type": "code",
      "source": [
        "df.head()"
      ],
      "metadata": {
        "colab": {
          "base_uri": "https://localhost:8080/",
          "height": 206
        },
        "id": "P8fAJdJrjZOT",
        "outputId": "d3b5b01e-2caf-4f6d-ebf7-cb2cfe5d453d"
      },
      "execution_count": 44,
      "outputs": [
        {
          "output_type": "execute_result",
          "data": {
            "text/plain": [
              "                                               Texte  label\n",
              "0  '#harcèlement judiciaire contre #lecourrierdes...    0.0\n",
              "1  '#zidane #harcelement #micronouvelle https://t...    0.0\n",
              "2  \"@TF1Info @TF1 @FondHopitaux @GillesBouleau @p...    0.0\n",
              "3  '@carambar_2024 @MatthieuMERIOT Passe ton chem...    0.0\n",
              "4  'Voilà !! \\n\\n#cynthiaargaillot à copié ces mé...    1.0"
            ],
            "text/html": [
              "\n",
              "  <div id=\"df-85fcef76-3588-421e-9f8b-9f475ececb9b\">\n",
              "    <div class=\"colab-df-container\">\n",
              "      <div>\n",
              "<style scoped>\n",
              "    .dataframe tbody tr th:only-of-type {\n",
              "        vertical-align: middle;\n",
              "    }\n",
              "\n",
              "    .dataframe tbody tr th {\n",
              "        vertical-align: top;\n",
              "    }\n",
              "\n",
              "    .dataframe thead th {\n",
              "        text-align: right;\n",
              "    }\n",
              "</style>\n",
              "<table border=\"1\" class=\"dataframe\">\n",
              "  <thead>\n",
              "    <tr style=\"text-align: right;\">\n",
              "      <th></th>\n",
              "      <th>Texte</th>\n",
              "      <th>label</th>\n",
              "    </tr>\n",
              "  </thead>\n",
              "  <tbody>\n",
              "    <tr>\n",
              "      <th>0</th>\n",
              "      <td>'#harcèlement judiciaire contre #lecourrierdes...</td>\n",
              "      <td>0.0</td>\n",
              "    </tr>\n",
              "    <tr>\n",
              "      <th>1</th>\n",
              "      <td>'#zidane #harcelement #micronouvelle https://t...</td>\n",
              "      <td>0.0</td>\n",
              "    </tr>\n",
              "    <tr>\n",
              "      <th>2</th>\n",
              "      <td>\"@TF1Info @TF1 @FondHopitaux @GillesBouleau @p...</td>\n",
              "      <td>0.0</td>\n",
              "    </tr>\n",
              "    <tr>\n",
              "      <th>3</th>\n",
              "      <td>'@carambar_2024 @MatthieuMERIOT Passe ton chem...</td>\n",
              "      <td>0.0</td>\n",
              "    </tr>\n",
              "    <tr>\n",
              "      <th>4</th>\n",
              "      <td>'Voilà !! \\n\\n#cynthiaargaillot à copié ces mé...</td>\n",
              "      <td>1.0</td>\n",
              "    </tr>\n",
              "  </tbody>\n",
              "</table>\n",
              "</div>\n",
              "      <button class=\"colab-df-convert\" onclick=\"convertToInteractive('df-85fcef76-3588-421e-9f8b-9f475ececb9b')\"\n",
              "              title=\"Convert this dataframe to an interactive table.\"\n",
              "              style=\"display:none;\">\n",
              "        \n",
              "  <svg xmlns=\"http://www.w3.org/2000/svg\" height=\"24px\"viewBox=\"0 0 24 24\"\n",
              "       width=\"24px\">\n",
              "    <path d=\"M0 0h24v24H0V0z\" fill=\"none\"/>\n",
              "    <path d=\"M18.56 5.44l.94 2.06.94-2.06 2.06-.94-2.06-.94-.94-2.06-.94 2.06-2.06.94zm-11 1L8.5 8.5l.94-2.06 2.06-.94-2.06-.94L8.5 2.5l-.94 2.06-2.06.94zm10 10l.94 2.06.94-2.06 2.06-.94-2.06-.94-.94-2.06-.94 2.06-2.06.94z\"/><path d=\"M17.41 7.96l-1.37-1.37c-.4-.4-.92-.59-1.43-.59-.52 0-1.04.2-1.43.59L10.3 9.45l-7.72 7.72c-.78.78-.78 2.05 0 2.83L4 21.41c.39.39.9.59 1.41.59.51 0 1.02-.2 1.41-.59l7.78-7.78 2.81-2.81c.8-.78.8-2.07 0-2.86zM5.41 20L4 18.59l7.72-7.72 1.47 1.35L5.41 20z\"/>\n",
              "  </svg>\n",
              "      </button>\n",
              "      \n",
              "  <style>\n",
              "    .colab-df-container {\n",
              "      display:flex;\n",
              "      flex-wrap:wrap;\n",
              "      gap: 12px;\n",
              "    }\n",
              "\n",
              "    .colab-df-convert {\n",
              "      background-color: #E8F0FE;\n",
              "      border: none;\n",
              "      border-radius: 50%;\n",
              "      cursor: pointer;\n",
              "      display: none;\n",
              "      fill: #1967D2;\n",
              "      height: 32px;\n",
              "      padding: 0 0 0 0;\n",
              "      width: 32px;\n",
              "    }\n",
              "\n",
              "    .colab-df-convert:hover {\n",
              "      background-color: #E2EBFA;\n",
              "      box-shadow: 0px 1px 2px rgba(60, 64, 67, 0.3), 0px 1px 3px 1px rgba(60, 64, 67, 0.15);\n",
              "      fill: #174EA6;\n",
              "    }\n",
              "\n",
              "    [theme=dark] .colab-df-convert {\n",
              "      background-color: #3B4455;\n",
              "      fill: #D2E3FC;\n",
              "    }\n",
              "\n",
              "    [theme=dark] .colab-df-convert:hover {\n",
              "      background-color: #434B5C;\n",
              "      box-shadow: 0px 1px 3px 1px rgba(0, 0, 0, 0.15);\n",
              "      filter: drop-shadow(0px 1px 2px rgba(0, 0, 0, 0.3));\n",
              "      fill: #FFFFFF;\n",
              "    }\n",
              "  </style>\n",
              "\n",
              "      <script>\n",
              "        const buttonEl =\n",
              "          document.querySelector('#df-85fcef76-3588-421e-9f8b-9f475ececb9b button.colab-df-convert');\n",
              "        buttonEl.style.display =\n",
              "          google.colab.kernel.accessAllowed ? 'block' : 'none';\n",
              "\n",
              "        async function convertToInteractive(key) {\n",
              "          const element = document.querySelector('#df-85fcef76-3588-421e-9f8b-9f475ececb9b');\n",
              "          const dataTable =\n",
              "            await google.colab.kernel.invokeFunction('convertToInteractive',\n",
              "                                                     [key], {});\n",
              "          if (!dataTable) return;\n",
              "\n",
              "          const docLinkHtml = 'Like what you see? Visit the ' +\n",
              "            '<a target=\"_blank\" href=https://colab.research.google.com/notebooks/data_table.ipynb>data table notebook</a>'\n",
              "            + ' to learn more about interactive tables.';\n",
              "          element.innerHTML = '';\n",
              "          dataTable['output_type'] = 'display_data';\n",
              "          await google.colab.output.renderOutput(dataTable, element);\n",
              "          const docLink = document.createElement('div');\n",
              "          docLink.innerHTML = docLinkHtml;\n",
              "          element.appendChild(docLink);\n",
              "        }\n",
              "      </script>\n",
              "    </div>\n",
              "  </div>\n",
              "  "
            ]
          },
          "metadata": {},
          "execution_count": 44
        }
      ]
    },
    {
      "cell_type": "code",
      "source": [
        "df.info()"
      ],
      "metadata": {
        "colab": {
          "base_uri": "https://localhost:8080/"
        },
        "id": "yAlAPec4nXna",
        "outputId": "ed5b9aeb-f2c7-45a8-e919-529ba69a329d"
      },
      "execution_count": 45,
      "outputs": [
        {
          "output_type": "stream",
          "name": "stdout",
          "text": [
            "<class 'pandas.core.frame.DataFrame'>\n",
            "RangeIndex: 9998 entries, 0 to 9997\n",
            "Data columns (total 2 columns):\n",
            " #   Column  Non-Null Count  Dtype  \n",
            "---  ------  --------------  -----  \n",
            " 0   Texte   9998 non-null   object \n",
            " 1   label   9998 non-null   float64\n",
            "dtypes: float64(1), object(1)\n",
            "memory usage: 156.3+ KB\n"
          ]
        }
      ]
    },
    {
      "cell_type": "code",
      "source": [
        "df['label'] = df['label'].apply(lambda x: 0 if x == 0.0 else x)\n",
        "df['label'] = df['label'].apply(lambda x: 1 if x == 1.0 else x)\n",
        "df['label'] = df['label'].astype(int)\n",
        "df.info()\n"
      ],
      "metadata": {
        "colab": {
          "base_uri": "https://localhost:8080/"
        },
        "id": "zXkB7kvco2eD",
        "outputId": "f57efaf6-d435-4f32-9309-27457e8f68da"
      },
      "execution_count": 46,
      "outputs": [
        {
          "output_type": "stream",
          "name": "stdout",
          "text": [
            "<class 'pandas.core.frame.DataFrame'>\n",
            "RangeIndex: 9998 entries, 0 to 9997\n",
            "Data columns (total 2 columns):\n",
            " #   Column  Non-Null Count  Dtype \n",
            "---  ------  --------------  ----- \n",
            " 0   Texte   9998 non-null   object\n",
            " 1   label   9998 non-null   int64 \n",
            "dtypes: int64(1), object(1)\n",
            "memory usage: 156.3+ KB\n"
          ]
        }
      ]
    },
    {
      "cell_type": "code",
      "source": [
        "df['label'].describe()"
      ],
      "metadata": {
        "colab": {
          "base_uri": "https://localhost:8080/"
        },
        "id": "YIYXOPMXq9ky",
        "outputId": "f3fca9de-c8fe-40eb-c7d4-5fbf2b71dff6"
      },
      "execution_count": 47,
      "outputs": [
        {
          "output_type": "execute_result",
          "data": {
            "text/plain": [
              "count    9998.000000\n",
              "mean        0.072615\n",
              "std         0.259516\n",
              "min         0.000000\n",
              "25%         0.000000\n",
              "50%         0.000000\n",
              "75%         0.000000\n",
              "max         1.000000\n",
              "Name: label, dtype: float64"
            ]
          },
          "metadata": {},
          "execution_count": 47
        }
      ]
    },
    {
      "cell_type": "code",
      "source": [
        "import matplotlib.pyplot as plt"
      ],
      "metadata": {
        "id": "dNSHMWxDpLJS"
      },
      "execution_count": 48,
      "outputs": []
    },
    {
      "cell_type": "code",
      "source": [
        "df['label'].value_counts(normalize=True)"
      ],
      "metadata": {
        "colab": {
          "base_uri": "https://localhost:8080/"
        },
        "id": "S_RCwzVBtLLB",
        "outputId": "c70bab3a-6832-4658-83cb-35f26edac688"
      },
      "execution_count": 49,
      "outputs": [
        {
          "output_type": "execute_result",
          "data": {
            "text/plain": [
              "0    0.927385\n",
              "1    0.072615\n",
              "Name: label, dtype: float64"
            ]
          },
          "metadata": {},
          "execution_count": 49
        }
      ]
    },
    {
      "cell_type": "code",
      "source": [
        "df['label'].value_counts(normalize=True).plot.pie()"
      ],
      "metadata": {
        "colab": {
          "base_uri": "https://localhost:8080/",
          "height": 266
        },
        "id": "sYOzAqbrpn5h",
        "outputId": "7951b3fe-2a92-49af-d0cd-635cfebe4789"
      },
      "execution_count": 50,
      "outputs": [
        {
          "output_type": "execute_result",
          "data": {
            "text/plain": [
              "<matplotlib.axes._subplots.AxesSubplot at 0x7fbd4b5e1070>"
            ]
          },
          "metadata": {},
          "execution_count": 50
        },
        {
          "output_type": "display_data",
          "data": {
            "text/plain": [
              "<Figure size 432x288 with 1 Axes>"
            ],
            "image/png": "[encoded data removed]"
          },
          "metadata": {}
        }
      ]
    },
    {
      "cell_type": "code",
      "source": [
        "df['label'].value_counts(normalize=True)"
      ],
      "metadata": {
        "colab": {
          "base_uri": "https://localhost:8080/"
        },
        "id": "uqhEOywgseOC",
        "outputId": "8626d038-2c5a-4876-b093-6698eeeda880"
      },
      "execution_count": 51,
      "outputs": [
        {
          "output_type": "execute_result",
          "data": {
            "text/plain": [
              "0    0.927385\n",
              "1    0.072615\n",
              "Name: label, dtype: float64"
            ]
          },
          "metadata": {},
          "execution_count": 51
        }
      ]
    },
    {
      "cell_type": "code",
      "source": [
        "df['label'].value_counts().plot(kind='bar')"
      ],
      "metadata": {
        "colab": {
          "base_uri": "https://localhost:8080/",
          "height": 280
        },
        "id": "ZD8Df8fHnZuS",
        "outputId": "e0a8f018-f5cc-446f-e2ba-3b034e62b039"
      },
      "execution_count": 52,
      "outputs": [
        {
          "output_type": "execute_result",
          "data": {
            "text/plain": [
              "<matplotlib.axes._subplots.AxesSubplot at 0x7fbd4b57d8e0>"
            ]
          },
          "metadata": {},
          "execution_count": 52
        },
        {
          "output_type": "display_data",
          "data": {
            "text/plain": [
              "<Figure size 432x288 with 1 Axes>"
            ],
            "image/png": "[encoded data removed]"
          },
          "metadata": {
            "needs_background": "light"
          }
        }
      ]
    },
    {
      "cell_type": "code",
      "source": [
        "df['label'].isna().sum()"
      ],
      "metadata": {
        "colab": {
          "base_uri": "https://localhost:8080/"
        },
        "id": "mOh4hCGmspIL",
        "outputId": "2e990147-0708-4423-eb55-7f2e42ebe832"
      },
      "execution_count": 76,
      "outputs": [
        {
          "output_type": "execute_result",
          "data": {
            "text/plain": [
              "0"
            ]
          },
          "metadata": {},
          "execution_count": 76
        }
      ]
    },
    {
      "cell_type": "markdown",
      "source": [
        "sppression des emojiis"
      ],
      "metadata": {
        "id": "HDZpw6RTncw4"
      }
    },
    {
      "cell_type": "code",
      "source": [
        "import re\n",
        "def remove_emoji(string):\n",
        "    emoji_pattern = re.compile(\"[\"\n",
        "                           u\"\\U0001F600-\\U0001F64F\"  \n",
        "                           u\"\\U0001F300-\\U0001F5FF\"  \n",
        "                           u\"\\U0001F680-\\U0001F6FF\"  \n",
        "                           u\"\\U0001F1E0-\\U0001F1FF\"  \n",
        "                           u\"\\U00002702-\\U000027B0\"\n",
        "                           u\"\\U000024C2-\\U0001F251\"\n",
        "                           \"]+\", flags=re.UNICODE)\n",
        "    return emoji_pattern.sub(r'', string)"
      ],
      "metadata": {
        "id": "bnLxa5Yn6sTy"
      },
      "execution_count": 53,
      "outputs": []
    },
    {
      "cell_type": "code",
      "source": [
        "df[\"Texte\"] = df[\"Texte\"].apply(remove_emoji)"
      ],
      "metadata": {
        "id": "1pfMj7r9njWI"
      },
      "execution_count": 54,
      "outputs": []
    },
    {
      "cell_type": "code",
      "source": [
        "import nltk\n",
        "nltk.download('punkt')"
      ],
      "metadata": {
        "colab": {
          "base_uri": "https://localhost:8080/"
        },
        "id": "PKLZfLbn6sLu",
        "outputId": "76d7eeac-27d2-420f-b533-a9b0686e2c49"
      },
      "execution_count": 55,
      "outputs": [
        {
          "output_type": "stream",
          "name": "stderr",
          "text": [
            "[nltk_data] Downloading package punkt to /root/nltk_data...\n",
            "[nltk_data]   Unzipping tokenizers/punkt.zip.\n"
          ]
        },
        {
          "output_type": "execute_result",
          "data": {
            "text/plain": [
              "True"
            ]
          },
          "metadata": {},
          "execution_count": 55
        }
      ]
    },
    {
      "cell_type": "code",
      "source": [
        "import nltk\n",
        "from nltk.corpus import stopwords\n",
        "from nltk import word_tokenize\n",
        "\n",
        "nltk.download('stopwords')\n",
        "\n",
        "STOPWORDS = set(stopwords.words('french'))"
      ],
      "metadata": {
        "colab": {
          "base_uri": "https://localhost:8080/"
        },
        "id": "jHVBry_YqxqK",
        "outputId": "03c5a4fc-d201-497f-c713-6681ace8cf1e"
      },
      "execution_count": 57,
      "outputs": [
        {
          "output_type": "stream",
          "name": "stderr",
          "text": [
            "[nltk_data] Downloading package stopwords to /root/nltk_data...\n",
            "[nltk_data]   Unzipping corpora/stopwords.zip.\n"
          ]
        }
      ]
    },
    {
      "cell_type": "code",
      "source": [
        "import matplotlib.pyplot as plt\n",
        "from sklearn.model_selection import train_test_split\n",
        "import re"
      ],
      "metadata": {
        "id": "Dt4IONin2OAy"
      },
      "execution_count": 58,
      "outputs": []
    },
    {
      "cell_type": "code",
      "source": [
        "space = re.compile('[/(){}\\[\\]\\|@,;]')\n",
        "symbols= re.compile('[^0-9a-z #+ _]')\n",
        "\n",
        "def clean_text(text):\n",
        "    text = text.lower() \n",
        "    text = space.sub(' ', text) \n",
        "    text = symbols.sub('', text)\n",
        "    text = text.replace('x', '')\n",
        "    text = re.sub(r'\\+', '', text)\n",
        "    text = ' '.join(word for word in text.split() if word not in STOPWORDS) \n",
        "    return text"
      ],
      "metadata": {
        "id": "2YsUTAWX1akq"
      },
      "execution_count": 59,
      "outputs": []
    },
    {
      "cell_type": "code",
      "source": [
        "df['Texte'] = df['Texte'].apply(clean_text)"
      ],
      "metadata": {
        "id": "o3vIkT2S2Woi"
      },
      "execution_count": 60,
      "outputs": []
    },
    {
      "cell_type": "code",
      "source": [
        "df['Texte']"
      ],
      "metadata": {
        "colab": {
          "base_uri": "https://localhost:8080/"
        },
        "id": "ZZzwHtjc2lXn",
        "outputId": "3cdf9398-e9f8-4538-b134-aecb0d3c5677"
      },
      "execution_count": 61,
      "outputs": [
        {
          "output_type": "execute_result",
          "data": {
            "text/plain": [
              "0       #harclement judiciaire contre #lecourrierdesst...\n",
              "1       #zidane #harcelement #micronouvelle https tco ...\n",
              "2       tf1info tf1 fondhopitau gillesbouleau piecesja...\n",
              "3       carambar_2024 matthieumeriot passe chemin va a...\n",
              "4       voil nn#cynthiaargaillot copi mthodes#pierrefi...\n",
              "                              ...                        \n",
              "9993    #chiffrecl 1 femme 6 monde cherche d#emploi pa...\n",
              "9994    o dc passe indignation femmes si fministes con...\n",
              "9995    booba magaliberdah fais guerre mieu citer boob...\n",
              "9996    marc blata parle vritablement magalie berdahnl...\n",
              "9997    quand dit vrais victimes lharclement celles cr...\n",
              "Name: Texte, Length: 9998, dtype: object"
            ]
          },
          "metadata": {},
          "execution_count": 61
        }
      ]
    },
    {
      "cell_type": "code",
      "source": [
        "space = re.compile('[/(){}\\[\\]\\|@,;]')\n",
        "symbols= re.compile('[^0-9a-z #+_]')\n",
        "STOPWORDS = set(stopwords.words('french'))\n",
        "\n",
        "def clean_(text):\n",
        "    text = text.lower() \n",
        "    text = space.sub(' ', text) \n",
        "    text = symbols.sub('', text) \n",
        "    text = text.replace('x', '')\n",
        "    text = ' '.join(word for word in text.split() if word not in STOPWORDS) \n",
        "    return text"
      ],
      "metadata": {
        "id": "5GJ-5fEP2yPy"
      },
      "execution_count": 62,
      "outputs": []
    },
    {
      "cell_type": "code",
      "source": [
        "df['Texte'] = df['Texte'].apply(clean_)"
      ],
      "metadata": {
        "id": "JqqZ_F8D20Q6"
      },
      "execution_count": 63,
      "outputs": []
    },
    {
      "cell_type": "code",
      "source": [
        "df"
      ],
      "metadata": {
        "colab": {
          "base_uri": "https://localhost:8080/",
          "height": 423
        },
        "id": "Z77mmUfL3Avb",
        "outputId": "ab4d2a6d-bec8-4559-a9d8-87746387bcd3"
      },
      "execution_count": 64,
      "outputs": [
        {
          "output_type": "execute_result",
          "data": {
            "text/plain": [
              "                                                  Texte  label\n",
              "0     #harclement judiciaire contre #lecourrierdesst...      0\n",
              "1     #zidane #harcelement #micronouvelle https tco ...      0\n",
              "2     tf1info tf1 fondhopitau gillesbouleau piecesja...      0\n",
              "3     carambar_2024 matthieumeriot passe chemin va a...      0\n",
              "4     voil nn#cynthiaargaillot copi mthodes#pierrefi...      1\n",
              "...                                                 ...    ...\n",
              "9993  #chiffrecl 1 femme 6 monde cherche d#emploi pa...      0\n",
              "9994  o dc passe indignation femmes si fministes con...      0\n",
              "9995  booba magaliberdah fais guerre mieu citer boob...      0\n",
              "9996  marc blata parle vritablement magalie berdahnl...      0\n",
              "9997  quand dit vrais victimes lharclement celles cr...      0\n",
              "\n",
              "[9998 rows x 2 columns]"
            ],
            "text/html": [
              "\n",
              "  <div id=\"df-ed048c9f-2e75-481d-bc76-0b15dcae4611\">\n",
              "    <div class=\"colab-df-container\">\n",
              "      <div>\n",
              "<style scoped>\n",
              "    .dataframe tbody tr th:only-of-type {\n",
              "        vertical-align: middle;\n",
              "    }\n",
              "\n",
              "    .dataframe tbody tr th {\n",
              "        vertical-align: top;\n",
              "    }\n",
              "\n",
              "    .dataframe thead th {\n",
              "        text-align: right;\n",
              "    }\n",
              "</style>\n",
              "<table border=\"1\" class=\"dataframe\">\n",
              "  <thead>\n",
              "    <tr style=\"text-align: right;\">\n",
              "      <th></th>\n",
              "      <th>Texte</th>\n",
              "      <th>label</th>\n",
              "    </tr>\n",
              "  </thead>\n",
              "  <tbody>\n",
              "    <tr>\n",
              "      <th>0</th>\n",
              "      <td>#harclement judiciaire contre #lecourrierdesst...</td>\n",
              "      <td>0</td>\n",
              "    </tr>\n",
              "    <tr>\n",
              "      <th>1</th>\n",
              "      <td>#zidane #harcelement #micronouvelle https tco ...</td>\n",
              "      <td>0</td>\n",
              "    </tr>\n",
              "    <tr>\n",
              "      <th>2</th>\n",
              "      <td>tf1info tf1 fondhopitau gillesbouleau piecesja...</td>\n",
              "      <td>0</td>\n",
              "    </tr>\n",
              "    <tr>\n",
              "      <th>3</th>\n",
              "      <td>carambar_2024 matthieumeriot passe chemin va a...</td>\n",
              "      <td>0</td>\n",
              "    </tr>\n",
              "    <tr>\n",
              "      <th>4</th>\n",
              "      <td>voil nn#cynthiaargaillot copi mthodes#pierrefi...</td>\n",
              "      <td>1</td>\n",
              "    </tr>\n",
              "    <tr>\n",
              "      <th>...</th>\n",
              "      <td>...</td>\n",
              "      <td>...</td>\n",
              "    </tr>\n",
              "    <tr>\n",
              "      <th>9993</th>\n",
              "      <td>#chiffrecl 1 femme 6 monde cherche d#emploi pa...</td>\n",
              "      <td>0</td>\n",
              "    </tr>\n",
              "    <tr>\n",
              "      <th>9994</th>\n",
              "      <td>o dc passe indignation femmes si fministes con...</td>\n",
              "      <td>0</td>\n",
              "    </tr>\n",
              "    <tr>\n",
              "      <th>9995</th>\n",
              "      <td>booba magaliberdah fais guerre mieu citer boob...</td>\n",
              "      <td>0</td>\n",
              "    </tr>\n",
              "    <tr>\n",
              "      <th>9996</th>\n",
              "      <td>marc blata parle vritablement magalie berdahnl...</td>\n",
              "      <td>0</td>\n",
              "    </tr>\n",
              "    <tr>\n",
              "      <th>9997</th>\n",
              "      <td>quand dit vrais victimes lharclement celles cr...</td>\n",
              "      <td>0</td>\n",
              "    </tr>\n",
              "  </tbody>\n",
              "</table>\n",
              "<p>9998 rows × 2 columns</p>\n",
              "</div>\n",
              "      <button class=\"colab-df-convert\" onclick=\"convertToInteractive('df-ed048c9f-2e75-481d-bc76-0b15dcae4611')\"\n",
              "              title=\"Convert this dataframe to an interactive table.\"\n",
              "              style=\"display:none;\">\n",
              "        \n",
              "  <svg xmlns=\"http://www.w3.org/2000/svg\" height=\"24px\"viewBox=\"0 0 24 24\"\n",
              "       width=\"24px\">\n",
              "    <path d=\"M0 0h24v24H0V0z\" fill=\"none\"/>\n",
              "    <path d=\"M18.56 5.44l.94 2.06.94-2.06 2.06-.94-2.06-.94-.94-2.06-.94 2.06-2.06.94zm-11 1L8.5 8.5l.94-2.06 2.06-.94-2.06-.94L8.5 2.5l-.94 2.06-2.06.94zm10 10l.94 2.06.94-2.06 2.06-.94-2.06-.94-.94-2.06-.94 2.06-2.06.94z\"/><path d=\"M17.41 7.96l-1.37-1.37c-.4-.4-.92-.59-1.43-.59-.52 0-1.04.2-1.43.59L10.3 9.45l-7.72 7.72c-.78.78-.78 2.05 0 2.83L4 21.41c.39.39.9.59 1.41.59.51 0 1.02-.2 1.41-.59l7.78-7.78 2.81-2.81c.8-.78.8-2.07 0-2.86zM5.41 20L4 18.59l7.72-7.72 1.47 1.35L5.41 20z\"/>\n",
              "  </svg>\n",
              "      </button>\n",
              "      \n",
              "  <style>\n",
              "    .colab-df-container {\n",
              "      display:flex;\n",
              "      flex-wrap:wrap;\n",
              "      gap: 12px;\n",
              "    }\n",
              "\n",
              "    .colab-df-convert {\n",
              "      background-color: #E8F0FE;\n",
              "      border: none;\n",
              "      border-radius: 50%;\n",
              "      cursor: pointer;\n",
              "      display: none;\n",
              "      fill: #1967D2;\n",
              "      height: 32px;\n",
              "      padding: 0 0 0 0;\n",
              "      width: 32px;\n",
              "    }\n",
              "\n",
              "    .colab-df-convert:hover {\n",
              "      background-color: #E2EBFA;\n",
              "      box-shadow: 0px 1px 2px rgba(60, 64, 67, 0.3), 0px 1px 3px 1px rgba(60, 64, 67, 0.15);\n",
              "      fill: #174EA6;\n",
              "    }\n",
              "\n",
              "    [theme=dark] .colab-df-convert {\n",
              "      background-color: #3B4455;\n",
              "      fill: #D2E3FC;\n",
              "    }\n",
              "\n",
              "    [theme=dark] .colab-df-convert:hover {\n",
              "      background-color: #434B5C;\n",
              "      box-shadow: 0px 1px 3px 1px rgba(0, 0, 0, 0.15);\n",
              "      filter: drop-shadow(0px 1px 2px rgba(0, 0, 0, 0.3));\n",
              "      fill: #FFFFFF;\n",
              "    }\n",
              "  </style>\n",
              "\n",
              "      <script>\n",
              "        const buttonEl =\n",
              "          document.querySelector('#df-ed048c9f-2e75-481d-bc76-0b15dcae4611 button.colab-df-convert');\n",
              "        buttonEl.style.display =\n",
              "          google.colab.kernel.accessAllowed ? 'block' : 'none';\n",
              "\n",
              "        async function convertToInteractive(key) {\n",
              "          const element = document.querySelector('#df-ed048c9f-2e75-481d-bc76-0b15dcae4611');\n",
              "          const dataTable =\n",
              "            await google.colab.kernel.invokeFunction('convertToInteractive',\n",
              "                                                     [key], {});\n",
              "          if (!dataTable) return;\n",
              "\n",
              "          const docLinkHtml = 'Like what you see? Visit the ' +\n",
              "            '<a target=\"_blank\" href=https://colab.research.google.com/notebooks/data_table.ipynb>data table notebook</a>'\n",
              "            + ' to learn more about interactive tables.';\n",
              "          element.innerHTML = '';\n",
              "          dataTable['output_type'] = 'display_data';\n",
              "          await google.colab.output.renderOutput(dataTable, element);\n",
              "          const docLink = document.createElement('div');\n",
              "          docLink.innerHTML = docLinkHtml;\n",
              "          element.appendChild(docLink);\n",
              "        }\n",
              "      </script>\n",
              "    </div>\n",
              "  </div>\n",
              "  "
            ]
          },
          "metadata": {},
          "execution_count": 64
        }
      ]
    },
    {
      "cell_type": "code",
      "source": [
        "# Données d'entraînement et de test\n",
        "from sklearn.model_selection import train_test_split\n",
        "seed = 123\n",
        "X_train, X_test, y_train, y_test = train_test_split(\n",
        "    df['Texte'],\n",
        "    df['label'],\n",
        "    test_size = 0.2,\n",
        "    random_state = seed\n",
        ")\n",
        "\n",
        "print(\"X_train shape:\", X_train.shape)\n",
        "print(\"y_train shape:\", y_train.shape)\n",
        "print(\"X_test shape:\", X_test.shape)\n",
        "print(\"y_test shape:\", y_test.shape)"
      ],
      "metadata": {
        "colab": {
          "base_uri": "https://localhost:8080/"
        },
        "id": "CNHge8dMxMGa",
        "outputId": "086e064e-13a8-4b63-a74d-0c1ffa0f91db"
      },
      "execution_count": 65,
      "outputs": [
        {
          "output_type": "stream",
          "name": "stdout",
          "text": [
            "X_train shape: (7998,)\n",
            "y_train shape: (7998,)\n",
            "X_test shape: (2000,)\n",
            "y_test shape: (2000,)\n"
          ]
        }
      ]
    },
    {
      "cell_type": "code",
      "source": [
        "X_train"
      ],
      "metadata": {
        "colab": {
          "base_uri": "https://localhost:8080/"
        },
        "id": "Qrs3v3gP3sqS",
        "outputId": "4b0dd1f5-f2b7-4e41-f6b7-28f0ad2635d4"
      },
      "execution_count": 66,
      "outputs": [
        {
          "output_type": "execute_result",
          "data": {
            "text/plain": [
              "8550    florence chappert responsable dpartement eprim...\n",
              "918     cest parti ambassadeurs contre #harcelement in...\n",
              "8328    rousselfabrice nantesmetropole atout_france le...\n",
              "4582    #seisme #france #misogyne #harcelement #femme ...\n",
              "6497    jordanesnault_ eclaireurc recherches didesnvou...\n",
              "                              ...                        \n",
              "9785    #harclement #tpmp simple touch harcle fils fra...\n",
              "7763    academie_paris #harcelement #harcelementalecol...\n",
              "5218    stopworkplacebu eactly my supervisor asks a do...\n",
              "1346    peut tre trs difficile faire face personne tin...\n",
              "3582    #viemaviedegardien pisode #harcelement nmais p...\n",
              "Name: Texte, Length: 7998, dtype: object"
            ]
          },
          "metadata": {},
          "execution_count": 66
        }
      ]
    },
    {
      "cell_type": "code",
      "source": [
        "y_train"
      ],
      "metadata": {
        "colab": {
          "base_uri": "https://localhost:8080/"
        },
        "id": "0OsUig1w3uw_",
        "outputId": "e51b25ab-513a-402e-8430-3b477adb1769"
      },
      "execution_count": 67,
      "outputs": [
        {
          "output_type": "execute_result",
          "data": {
            "text/plain": [
              "8550    0\n",
              "918     0\n",
              "8328    0\n",
              "4582    1\n",
              "6497    0\n",
              "       ..\n",
              "9785    0\n",
              "7763    0\n",
              "5218    0\n",
              "1346    1\n",
              "3582    0\n",
              "Name: label, Length: 7998, dtype: int64"
            ]
          },
          "metadata": {},
          "execution_count": 67
        }
      ]
    },
    {
      "cell_type": "code",
      "source": [
        "from sklearn.feature_extraction.text import CountVectorizer\n",
        "vectorizer = CountVectorizer() \n",
        "X_train_content_vec = vectorizer.fit_transform(X_train)\n",
        "X_test_content_vec = vectorizer.transform(X_test)"
      ],
      "metadata": {
        "id": "FwinMRhfxkep"
      },
      "execution_count": 68,
      "outputs": []
    },
    {
      "cell_type": "code",
      "source": [
        "X_train_content_vec"
      ],
      "metadata": {
        "colab": {
          "base_uri": "https://localhost:8080/"
        },
        "id": "ENFEowuNx6T6",
        "outputId": "bbb301ac-167a-4a96-ef80-dc559ab21052"
      },
      "execution_count": 69,
      "outputs": [
        {
          "output_type": "execute_result",
          "data": {
            "text/plain": [
              "<7998x35366 sparse matrix of type '<class 'numpy.int64'>'\n",
              "\twith 146612 stored elements in Compressed Sparse Row format>"
            ]
          },
          "metadata": {},
          "execution_count": 69
        }
      ]
    },
    {
      "cell_type": "code",
      "source": [
        "X_test_content_vec"
      ],
      "metadata": {
        "colab": {
          "base_uri": "https://localhost:8080/"
        },
        "id": "t5Okxnppx7gv",
        "outputId": "764e720a-6dcc-4944-f51f-fc6905b80978"
      },
      "execution_count": 70,
      "outputs": [
        {
          "output_type": "execute_result",
          "data": {
            "text/plain": [
              "<2000x35366 sparse matrix of type '<class 'numpy.int64'>'\n",
              "\twith 29539 stored elements in Compressed Sparse Row format>"
            ]
          },
          "metadata": {},
          "execution_count": 70
        }
      ]
    },
    {
      "cell_type": "code",
      "source": [
        "vectorizer.get_feature_names()"
      ],
      "metadata": {
        "id": "bxs-hCfUyHMw",
        "colab": {
          "base_uri": "https://localhost:8080/"
        },
        "outputId": "ee91e041-d5f5-46d5-a352-b54b5eef280e"
      },
      "execution_count": 71,
      "outputs": [
        {
          "output_type": "stream",
          "name": "stderr",
          "text": [
            "/usr/local/lib/python3.8/dist-packages/sklearn/utils/deprecation.py:87: FutureWarning: Function get_feature_names is deprecated; get_feature_names is deprecated in 1.0 and will be removed in 1.2. Please use get_feature_names_out instead.\n",
            "  warnings.warn(msg, category=FutureWarning)\n"
          ]
        },
        {
          "output_type": "execute_result",
          "data": {
            "text/plain": [
              "['00',\n",
              " '000',\n",
              " '000enfants',\n",
              " '000nnhttps',\n",
              " '001',\n",
              " '009',\n",
              " '01',\n",
              " '013hvskuyt',\n",
              " '0169304014n',\n",
              " '0172624621',\n",
              " '0187443632n',\n",
              " '0189613453',\n",
              " '01olyom8af',\n",
              " '02',\n",
              " '0251754713n',\n",
              " '02556020',\n",
              " '02985nn',\n",
              " '02jrpohgkg',\n",
              " '02qkfbefwy',\n",
              " '02zjznig1c',\n",
              " '03',\n",
              " '04',\n",
              " '040ivrgjyfn',\n",
              " '04816838',\n",
              " '04816870',\n",
              " '04qjoucvoo',\n",
              " '04vek2yqwf',\n",
              " '05',\n",
              " '05aj6mhrug',\n",
              " '05beolppii',\n",
              " '06',\n",
              " '0628517913',\n",
              " '0643615887',\n",
              " '067wccepj',\n",
              " '06ccpuinpz',\n",
              " '06nle',\n",
              " '07',\n",
              " '0783887455',\n",
              " '08',\n",
              " '0800',\n",
              " '08cf7jqk0m',\n",
              " '08hghqpzyi',\n",
              " '09',\n",
              " '0917h',\n",
              " '09h17h',\n",
              " '09n',\n",
              " '09nrservations',\n",
              " '09qniljap',\n",
              " '09zoqsqpv',\n",
              " '0ada3ejzgz',\n",
              " '0agwhn0tls',\n",
              " '0avencenft',\n",
              " '0aw4jz6pgf',\n",
              " '0b1ltiuztj',\n",
              " '0bk84b3hp6',\n",
              " '0bkqq8gycm',\n",
              " '0bt37bw5as',\n",
              " '0byjbnq5d9',\n",
              " '0bz60thcz6',\n",
              " '0c67c69mme',\n",
              " '0cfutbfqkf',\n",
              " '0db5zhltvc',\n",
              " '0dtoeol9e',\n",
              " '0dtuclorlk',\n",
              " '0duqg1ikis',\n",
              " '0ecn1wybql',\n",
              " '0ehjct94ni',\n",
              " '0f0rdknlr',\n",
              " '0gdpuqtlev',\n",
              " '0gkrnpotv1',\n",
              " '0gkwrhcumm',\n",
              " '0gqwwfsr96',\n",
              " '0hl8nbddl',\n",
              " '0ht7omtqwn',\n",
              " '0iz8erswi6',\n",
              " '0jnbsaggdb',\n",
              " '0kjvdvmaj',\n",
              " '0kko4ibp4t',\n",
              " '0kslf8qyzt',\n",
              " '0lie1ygieu',\n",
              " '0lmsqvdaez',\n",
              " '0lomrdinuq',\n",
              " '0mc6ecym',\n",
              " '0mnh1bkmz',\n",
              " '0mpwu3zyvu',\n",
              " '0nno6wkln7',\n",
              " '0ogzhjli4nn',\n",
              " '0penions',\n",
              " '0pk9rmgkz',\n",
              " '0q5zkk5cje',\n",
              " '0q9gsrbfqn',\n",
              " '0qni0mdurg',\n",
              " '0qt8fbwo6i',\n",
              " '0rfm3qig0',\n",
              " '0rhwrzuhnp',\n",
              " '0s35ppfhvb',\n",
              " '0s4zb7cev',\n",
              " '0salgu5si',\n",
              " '0sgfagqbaennous',\n",
              " '0sohvrduu',\n",
              " '0sqqel2otb',\n",
              " '0t04nidzdb',\n",
              " '0t0utfflw',\n",
              " '0tb0dq84ps',\n",
              " '0tdnrho5pa',\n",
              " '0u7dtyvkw0',\n",
              " '0udjet04na',\n",
              " '0ulebrske',\n",
              " '0upt8k4lk4',\n",
              " '0uq1ermzh4',\n",
              " '0vi4r5yvj3',\n",
              " '0voqn1efs',\n",
              " '0vqyppensz',\n",
              " '0vrfbvcog',\n",
              " '0vtv9rgyd',\n",
              " '0w30uduyjd',\n",
              " '0w9qo1po',\n",
              " '0wfvwpjti5',\n",
              " '0wou4hlwul',\n",
              " '0yjh19qv3bnndveloppe',\n",
              " '0yjsy7e7wu',\n",
              " '0ylct7v0',\n",
              " '0ypjub7peu',\n",
              " '0ysoypmj',\n",
              " '0z11o1ojz9',\n",
              " '0zqydlypnq',\n",
              " '0ztjaczn5y',\n",
              " '0zz3y0gcfs',\n",
              " '10',\n",
              " '100',\n",
              " '1000arnaques',\n",
              " '1000eme',\n",
              " '100me',\n",
              " '101122',\n",
              " '1015',\n",
              " '1021473165556559873',\n",
              " '1024me',\n",
              " '102mins',\n",
              " '10303',\n",
              " '10313',\n",
              " '103n',\n",
              " '103nseual',\n",
              " '105',\n",
              " '105usg0pws',\n",
              " '1095',\n",
              " '10a0000a0autresn',\n",
              " '10e',\n",
              " '10ea0dition',\n",
              " '10fois',\n",
              " '10h',\n",
              " '10h10',\n",
              " '10h30',\n",
              " '10h30nndcouvrez',\n",
              " '10hnnhttps',\n",
              " '10hnsinscrire',\n",
              " '10m3',\n",
              " '10me',\n",
              " '10minutesjuridiques',\n",
              " '10n',\n",
              " '10nov22',\n",
              " '10november2022',\n",
              " '10novembre',\n",
              " '10novembre2019',\n",
              " '10s',\n",
              " '11',\n",
              " '113',\n",
              " '117',\n",
              " '119',\n",
              " '1194659388486770688',\n",
              " '119n',\n",
              " '11datyvs0z',\n",
              " '11h',\n",
              " '11h30',\n",
              " '11hnn',\n",
              " '11nutilisateur',\n",
              " '11s71taflb',\n",
              " '12',\n",
              " '120',\n",
              " '121',\n",
              " '12151345',\n",
              " '1215145',\n",
              " '123insultesn',\n",
              " '12428c',\n",
              " '1245',\n",
              " '12ans',\n",
              " '12deuc9fap',\n",
              " '12gw0gvs3a',\n",
              " '12h',\n",
              " '12h00',\n",
              " '12h30rts',\n",
              " '12janvier2019',\n",
              " '12m',\n",
              " '12n',\n",
              " '12ndcs7u',\n",
              " '12years',\n",
              " '13',\n",
              " '130',\n",
              " '131',\n",
              " '132',\n",
              " '133',\n",
              " '135',\n",
              " '13a0juillet',\n",
              " '13emenla',\n",
              " '13f9edib6z',\n",
              " '13h30',\n",
              " '13h48',\n",
              " '13h50',\n",
              " '13me',\n",
              " '13nnhttps',\n",
              " '14',\n",
              " '1400',\n",
              " '14000',\n",
              " '141eveotj9',\n",
              " '14423',\n",
              " '14a0mois',\n",
              " '14ans',\n",
              " '14h',\n",
              " '14h00',\n",
              " '14h16h',\n",
              " '14juillet',\n",
              " '14juilletnjours',\n",
              " '14mars',\n",
              " '14mio',\n",
              " '14nhttps',\n",
              " '14pukcohdz',\n",
              " '15',\n",
              " '150',\n",
              " '1500',\n",
              " '15000',\n",
              " '150000',\n",
              " '1500n',\n",
              " '150mo',\n",
              " '1512473160813355014',\n",
              " '152',\n",
              " '153',\n",
              " '15h',\n",
              " '15h07',\n",
              " '15h30',\n",
              " '15hhttps',\n",
              " '15hn',\n",
              " '15hninfos',\n",
              " '15mn',\n",
              " '15uzkbclsd',\n",
              " '16',\n",
              " '160',\n",
              " '16000',\n",
              " '163',\n",
              " '16a',\n",
              " '16dae86wvn',\n",
              " '16days',\n",
              " '16e',\n",
              " '16h',\n",
              " '16jours',\n",
              " '16joursactivisme',\n",
              " '16joursactivismecontrelaviolenceseiste',\n",
              " '16joursdactivisme',\n",
              " '16joursnn',\n",
              " '16swyf7dnd',\n",
              " '17',\n",
              " '177',\n",
              " '179',\n",
              " '17a0directeurs',\n",
              " '17ans',\n",
              " '17e',\n",
              " '17h',\n",
              " '17h00',\n",
              " '17h20',\n",
              " '17h30',\n",
              " '17h30nhttps',\n",
              " '17i3omkkck',\n",
              " '17n',\n",
              " '17npour',\n",
              " '17trlbavw2',\n",
              " '18',\n",
              " '180jours_filmnrdv',\n",
              " '182',\n",
              " '1825',\n",
              " '1830',\n",
              " '18ans',\n",
              " '18e',\n",
              " '18h',\n",
              " '18h30',\n",
              " '18h30n201',\n",
              " '18h40',\n",
              " '18h50',\n",
              " '18hn',\n",
              " '18hninscription',\n",
              " '18hnnprsenter',\n",
              " '18hnprsenter',\n",
              " '18juin',\n",
              " '19',\n",
              " '190',\n",
              " '1962',\n",
              " '1972',\n",
              " '1978',\n",
              " '1981',\n",
              " '1988nn',\n",
              " '1990',\n",
              " '1999',\n",
              " '19e',\n",
              " '19emguiee1',\n",
              " '19h',\n",
              " '19hd9l3vct',\n",
              " '19natelier',\n",
              " '19nh5wanqi',\n",
              " '19w5yub9al',\n",
              " '1abcqrt4er',\n",
              " '1aeu3ztalv',\n",
              " '1affaire',\n",
              " '1an',\n",
              " '1aq93ivebh',\n",
              " '1asdzhqudp',\n",
              " '1au9imjeki',\n",
              " '1awqhsuzde',\n",
              " '1b7dtvgif9',\n",
              " '1bcegllem',\n",
              " '1brnwmiwvy',\n",
              " '1btjk9jaqs',\n",
              " '1c58cfz6e',\n",
              " '1cuok',\n",
              " '1d5jnfdqg',\n",
              " '1dhwsfvwpy',\n",
              " '1dipfuzar',\n",
              " '1dwthunqn8',\n",
              " '1e',\n",
              " '1elisamoreno',\n",
              " '1elisamorenou2069',\n",
              " '1er',\n",
              " '1erdegr',\n",
              " '1ere',\n",
              " '1eres',\n",
              " '1erjanviernn',\n",
              " '1ermai',\n",
              " '1ermai2022',\n",
              " '1ers',\n",
              " '1eyzv0mtnm',\n",
              " '1f4yfqtbo',\n",
              " '1fnuaz2syk',\n",
              " '1fqyeccvlu',\n",
              " '1fvl2jq54g',\n",
              " '1gant',\n",
              " '1glkje4cv5',\n",
              " '1h',\n",
              " '1h45',\n",
              " '1hc6jwwjoz',\n",
              " '1heure',\n",
              " '1hr0imjca1',\n",
              " '1huczvqn6',\n",
              " '1iaifjtv8e',\n",
              " '1ir6vec8jy',\n",
              " '1ivgwhozn',\n",
              " '1jm5tuos0',\n",
              " '1job',\n",
              " '1jour1actu',\n",
              " '1jour1actupour',\n",
              " '1jour1icone',\n",
              " '1jwccbqipvndes',\n",
              " '1jwpfc603d',\n",
              " '1jysywm6ktn',\n",
              " '1k8bye4e5c',\n",
              " '1kesing2y',\n",
              " '1kvt2jdwbnn',\n",
              " '1kvt2jdwbnqui',\n",
              " '1lg0m04gyp',\n",
              " '1lqkyhp5v',\n",
              " '1m',\n",
              " '1m4moujhua',\n",
              " '1m70',\n",
              " '1mai',\n",
              " '1minorit',\n",
              " '1mkgevdfwr',\n",
              " '1mogcl1skd',\n",
              " '1msmu83eo1',\n",
              " '1n0rv9j83g',\n",
              " '1nkrryb2np',\n",
              " '1npp3q3ycu',\n",
              " '1o',\n",
              " '1obuujthgu',\n",
              " '1ogy3ncycy',\n",
              " '1ojmtbgimf',\n",
              " '1owtjlr7mv',\n",
              " '1oz95fun0t',\n",
              " '1personne',\n",
              " '1pr3ipfprv',\n",
              " '1pyydadrsm',\n",
              " '1pz87sa5gg',\n",
              " '1qbvefbwgy',\n",
              " '1qnmppfeos',\n",
              " '1re',\n",
              " '1refois',\n",
              " '1res',\n",
              " '1rgi4gdzn',\n",
              " '1rlod0jgh2',\n",
              " '1rnnlybdd',\n",
              " '1rrmpdyb',\n",
              " '1sfetcgvqf',\n",
              " '1sourirecamille',\n",
              " '1sousmarin',\n",
              " '1t0wq0dz5r',\n",
              " '1tcmijfhzm',\n",
              " '1tdoz1p6ni',\n",
              " '1uhkwg6nlz',\n",
              " '1uk3wz4v',\n",
              " '1unnuo0n',\n",
              " '1uqpkj4yc',\n",
              " '1uqqew7un4',\n",
              " '1utq6wp0k',\n",
              " '1utsyply4',\n",
              " '1vbejlmhjk',\n",
              " '1vlb1znlfj',\n",
              " '1vuqhuru16',\n",
              " '1wdpvbu1ph',\n",
              " '1wf1fjpwrw',\n",
              " '1ygafmf4fa',\n",
              " '1zflzo2plu',\n",
              " '1zggpcqr',\n",
              " '1zvbdggbzn',\n",
              " '20',\n",
              " '200',\n",
              " '2000',\n",
              " '20000',\n",
              " '2001',\n",
              " '20012018',\n",
              " '2002',\n",
              " '2002nagressions',\n",
              " '2004',\n",
              " '20043',\n",
              " '2006',\n",
              " '20072010',\n",
              " '20072010nhttps',\n",
              " '2010',\n",
              " '20102013',\n",
              " '2011',\n",
              " '2012',\n",
              " '20122014',\n",
              " '2013',\n",
              " '2013n',\n",
              " '2014',\n",
              " '2015',\n",
              " '2015nn',\n",
              " '2016',\n",
              " '2017',\n",
              " '2017n',\n",
              " '2017nnje',\n",
              " '2018',\n",
              " '2019',\n",
              " '2019nncette',\n",
              " '201a0',\n",
              " '2020',\n",
              " '2020alternance',\n",
              " '2020nfi',\n",
              " '2021',\n",
              " '20211018',\n",
              " '20212022',\n",
              " '20212023',\n",
              " '2021a0',\n",
              " '2022',\n",
              " '20222023',\n",
              " '2022299',\n",
              " '2022n',\n",
              " '2022n34',\n",
              " '2022ndistribution',\n",
              " '2022ndvpt',\n",
              " '2022nensemble',\n",
              " '2022newyear',\n",
              " '2022nhttps',\n",
              " '2022ninfo',\n",
              " '2022nmerci',\n",
              " '2022nn',\n",
              " '2022nnles',\n",
              " '2022nnloln',\n",
              " '2022nnparhttps',\n",
              " '2022nobservatoire',\n",
              " '2022nressources',\n",
              " '2022nretrouvez',\n",
              " '2023',\n",
              " '2023nalors',\n",
              " '2023ngnralisation',\n",
              " '2023ninscriptions',\n",
              " '2023nn',\n",
              " '2023nrencontre',\n",
              " '2024',\n",
              " '2025',\n",
              " '2027',\n",
              " '2027nn',\n",
              " '2028',\n",
              " '2034',\n",
              " '2041',\n",
              " '20ans',\n",
              " '20e',\n",
              " '20h',\n",
              " '20h05',\n",
              " '20h30',\n",
              " '20h30nninscrivez',\n",
              " '20h40',\n",
              " '20h41',\n",
              " '20h50',\n",
              " '20hn',\n",
              " '20hnn25',\n",
              " '20kg',\n",
              " '20mfhmmphm',\n",
              " '20minutes',\n",
              " '20minutesonline',\n",
              " '20n',\n",
              " '20rvklrllz',\n",
              " '21',\n",
              " '2103',\n",
              " '21ans',\n",
              " '21e',\n",
              " '21fe5oi0r',\n",
              " '21h',\n",
              " '21h10',\n",
              " '21h40',\n",
              " '21h7erfibg',\n",
              " '21mars',\n",
              " '21me',\n",
              " '21pods',\n",
              " '22',\n",
              " '220',\n",
              " '22000',\n",
              " '222',\n",
              " '2223323',\n",
              " '2226',\n",
              " '229',\n",
              " '22a0000a0employs',\n",
              " '22a0septembre',\n",
              " '22e',\n",
              " '22h55',\n",
              " '22hnpour',\n",
              " '23',\n",
              " '239sossa',\n",
              " '23gkfn64j',\n",
              " '23h',\n",
              " '23millionsdevoi',\n",
              " '23ohoondaf',\n",
              " '24',\n",
              " '24032022',\n",
              " '24avril2022',\n",
              " '24h',\n",
              " '24hpujadas',\n",
              " '24lmhmuw0r',\n",
              " '24min',\n",
              " '24oewqieju',\n",
              " '25',\n",
              " '250000',\n",
              " '250a5gjcrv',\n",
              " '25novembre',\n",
              " '25thempo',\n",
              " '26',\n",
              " '261',\n",
              " '263otaobsy',\n",
              " '26bwefwcdp',\n",
              " '27',\n",
              " '27000',\n",
              " '277acoksvnn',\n",
              " '27a0ans',\n",
              " '27ans',\n",
              " '27mbwy7kc',\n",
              " '27mkg0hu2g',\n",
              " '28',\n",
              " '28hp43uuv',\n",
              " '28kyfwhe4g',\n",
              " '28yyjkrwq',\n",
              " '29',\n",
              " '292e8f0hybn',\n",
              " '292e8f1fnjn',\n",
              " '297nnaujourdhui',\n",
              " '29q7d8evv',\n",
              " '29s2ihdrybn',\n",
              " '29zyjmu72o',\n",
              " '2a8ggd8hkg',\n",
              " '2actjcf7oo',\n",
              " '2ans',\n",
              " '2azofpmo44',\n",
              " '2chauvier',\n",
              " '2classes',\n",
              " '2comprendre',\n",
              " '2d',\n",
              " '2de',\n",
              " '2dham4ikna',\n",
              " '2dn',\n",
              " '2do',\n",
              " '2dqnefnnht',\n",
              " '2dt5ac7du',\n",
              " '2e',\n",
              " '2eincsvcdv',\n",
              " '2emetour',\n",
              " '2f6s5dp2i6',\n",
              " '2favlyvrui',\n",
              " '2ftcmkjcwg',\n",
              " '2ftitk5isi',\n",
              " '2fvw9cbbal',\n",
              " '2g5ao5rrpk',\n",
              " '2ggfqwk2ub',\n",
              " '2gklwscpyw',\n",
              " '2gsb6q2e2t',\n",
              " '2gt0nyegow',\n",
              " '2h',\n",
              " '2hqcgdlruz',\n",
              " '2hrdazlrv',\n",
              " '2huwec2wv',\n",
              " '2hzmcgpna',\n",
              " '2i8ssejgkb',\n",
              " '2ifmwrsthd',\n",
              " '2ih39mttvn',\n",
              " '2ip0elqz0pnavec',\n",
              " '2irm4fut3o',\n",
              " '2iu0jt604y',\n",
              " '2iwryslbm',\n",
              " '2j0tf6e8e7',\n",
              " '2jcnembbk',\n",
              " '2jknecdytp',\n",
              " '2kgaug6op6',\n",
              " '2kqvectnjy',\n",
              " '2kspt5pwnt',\n",
              " '2kv13rjpds',\n",
              " '2kyyrqo29',\n",
              " '2lkjptrm5',\n",
              " '2lrsogtclrnn',\n",
              " '2m0nrjkr09',\n",
              " '2m3uv3hgd',\n",
              " '2me',\n",
              " '2n2i6wsvqjnn',\n",
              " '2nd',\n",
              " '2nddegr',\n",
              " '2nde',\n",
              " '2ndtour',\n",
              " '2nhcsol7n',\n",
              " '2nk8yhcgd',\n",
              " '2nmerci',\n",
              " '2nnpschitt',\n",
              " '2nptqu2wow',\n",
              " '2ntqem8ppn',\n",
              " '2nvcupupf5',\n",
              " '2odu9ymfj',\n",
              " '2oe9pylzenn',\n",
              " '2ogteb9qt9',\n",
              " '2ojnsvqeon',\n",
              " '2ouvrages',\n",
              " '2oy4viks0c',\n",
              " '2pegyec4d',\n",
              " '2poids2mesures',\n",
              " '2q2wb8owy7',\n",
              " '2qcv38szem',\n",
              " '2qhgc3qahw',\n",
              " '2rjya59wtu',\n",
              " '2rkeol1nlf',\n",
              " '2rmcrr34ug',\n",
              " '2rmiid5e34',\n",
              " '2rzlfto5p2',\n",
              " '2s7e8ekad',\n",
              " '2s9dlarwt1',\n",
              " '2slhyuhsj8',\n",
              " '2soje07gs8',\n",
              " '2sqbi7nuk',\n",
              " '2t7c9kbf8',\n",
              " '2tag7e26cdnn',\n",
              " '2tqfy7nzar',\n",
              " '2ttruzesoi',\n",
              " '2tw1k28etu',\n",
              " '2tzm24nb1q',\n",
              " '2ubtyve4k',\n",
              " '2ucnhcodf',\n",
              " '2ufmsbs5',\n",
              " '2uge6s3teann',\n",
              " '2uihq5ds',\n",
              " '2usmahr6oj',\n",
              " '2uveydulgo',\n",
              " '2v5gu5b6pi',\n",
              " '2v8g9l7hoo',\n",
              " '2vanssay',\n",
              " '2vd6drcboo',\n",
              " '2vdgllk0g',\n",
              " '2vpd3wqjvn',\n",
              " '2w2kdlbpvj',\n",
              " '2w8he6glae',\n",
              " '2webinaires',\n",
              " '2wphse4egbnlenqute',\n",
              " '2wrsehssqs',\n",
              " '2y4vdqclfr',\n",
              " '2yceoin98vnn',\n",
              " '2yow84wiot',\n",
              " '2zevhlycr',\n",
              " '2zf2ijc05',\n",
              " '2zvg3qrol',\n",
              " '2zwwpibily',\n",
              " '2zztvifbdv',\n",
              " '30',\n",
              " '300',\n",
              " '300000',\n",
              " '3000n',\n",
              " '300gcd8vbl',\n",
              " '3018',\n",
              " '3018n',\n",
              " '3018na0nen',\n",
              " '3018nhttps',\n",
              " '3018nn',\n",
              " '3018nnen',\n",
              " '3018nnhttps',\n",
              " '3018nplus',\n",
              " '3018vient',\n",
              " '3020',\n",
              " '3020n',\n",
              " '3020n17',\n",
              " '3020ncomme',\n",
              " '3020nface',\n",
              " '3020nles',\n",
              " '3020nn',\n",
              " '3020nnotre',\n",
              " '302o',\n",
              " '3090',\n",
              " '30a0',\n",
              " '30ansdechec',\n",
              " '30k',\n",
              " '30millionsdamis',\n",
              " '30n',\n",
              " '31',\n",
              " '3117',\n",
              " '31177',\n",
              " '314',\n",
              " '31rcis9jje',\n",
              " '32',\n",
              " '322',\n",
              " '32a0cas',\n",
              " '32qjyzvysp',\n",
              " '33179517612',\n",
              " '3336',\n",
              " '33700n',\n",
              " '33aw9wtbs',\n",
              " '34',\n",
              " '35',\n",
              " '350',\n",
              " '35l13t7tp',\n",
              " '36',\n",
              " '360',\n",
              " '365',\n",
              " '365jours',\n",
              " '365npartagez',\n",
              " '36958422eme',\n",
              " '36gnhakoj9',\n",
              " '36s1ctj56q',\n",
              " '36w8kyzlu',\n",
              " '36yndck3z',\n",
              " '3761n7dtqo',\n",
              " '37edvulf2',\n",
              " '38',\n",
              " '39',\n",
              " '3919',\n",
              " '3919n',\n",
              " '39zgfo9ov8',\n",
              " '3aaecfqkj',\n",
              " '3aq82ahqsg',\n",
              " '3aqa1nnrgen',\n",
              " '3asseh',\n",
              " '3ayrgi2q',\n",
              " '3b3lqzv5iwnn',\n",
              " '3begne2hgwn',\n",
              " '3bojkjhkr',\n",
              " '3c0qkmqapc',\n",
              " '3c5gucvt7e',\n",
              " '3c9yjmgngg',\n",
              " '3chtil5ci0',\n",
              " '3cwtt43c2r',\n",
              " '3dfncoulij',\n",
              " '3dkwh2sfn',\n",
              " '3do63vofo',\n",
              " '3dqn2m330h',\n",
              " '3drqhjbjeg',\n",
              " '3ds',\n",
              " '3e',\n",
              " '3e6wkpcvz4',\n",
              " '3e8lqui9y',\n",
              " '3eme',\n",
              " '3enlibrer',\n",
              " '3erybp8vdy',\n",
              " '3esegpa',\n",
              " '3euk7imipw',\n",
              " '3filkgqidu',\n",
              " '3fizlkfwqw',\n",
              " '3flafqywlq',\n",
              " '3g6hv10cwa',\n",
              " '3gbuqepwnk',\n",
              " '3gh6a09omc',\n",
              " '3gjzcpkcnw',\n",
              " '3h',\n",
              " '3hfnisywoy',\n",
              " '3hmfao5tkg',\n",
              " '3icma7njvk',\n",
              " '3ignlwamnj',\n",
              " '3j',\n",
              " '3jac5tn4o8',\n",
              " '3joeky4qgv',\n",
              " '3jophuabw',\n",
              " '3jrb9h3kg',\n",
              " '3jz3753aqt',\n",
              " '3keffrfnlq',\n",
              " '3kk2cfrvv',\n",
              " '3kq8phqb8',\n",
              " '3kyzgav77',\n",
              " '3l6sznkmrl',\n",
              " '3leopb8vhm',\n",
              " '3lj80ld05lnn',\n",
              " '3lwulac9mn',\n",
              " '3me',\n",
              " '3mes',\n",
              " '3mjaiyw4vd',\n",
              " '3moisles',\n",
              " '3mrb8djb7k',\n",
              " '3ms5erchp2',\n",
              " '3mu6knbgo5',\n",
              " '3nfj1saei',\n",
              " '3nwao7ycl1',\n",
              " '3nyoqwzc8',\n",
              " '3ofy4cfrfc',\n",
              " '3om1v5m3s7',\n",
              " '3oqvzfszcy',\n",
              " '3p0cd3mfk',\n",
              " '3p3titkv1b',\n",
              " '3p910ilfpq',\n",
              " '3plkw1ogpq',\n",
              " '3plu2er7ph',\n",
              " '3pm',\n",
              " '3pzbg55au',\n",
              " '3q8j0eldlh',\n",
              " '3qa7edoeqe',\n",
              " '3qyayvk1lk',\n",
              " '3rcb7uhvnk',\n",
              " '3rklr6ipt',\n",
              " '3rngue2yea',\n",
              " '3rqugyfiw',\n",
              " '3s3bk546nn',\n",
              " '3saconseilnplus',\n",
              " '3skfg2bgzz',\n",
              " '3slwumagit',\n",
              " '3stjdllj3j',\n",
              " '3swsohpqce',\n",
              " '3tgnfcuc8e',\n",
              " '3trkrvsaav',\n",
              " '3u9m1cmkam',\n",
              " '3uqzuv3jn',\n",
              " '3uzkzk4zj',\n",
              " '3vu3wtfvvnnpar',\n",
              " '3vwdzmorg4',\n",
              " '3ywkbfe1ti',\n",
              " '3za8zmrqcr',\n",
              " '40',\n",
              " '400',\n",
              " '4000',\n",
              " '40a0',\n",
              " '40ansml',\n",
              " '40dm',\n",
              " '40ma',\n",
              " '41',\n",
              " '41bljl95i',\n",
              " '41j2kkjdbh',\n",
              " '42',\n",
              " '43',\n",
              " '431l7lw9uh',\n",
              " '432',\n",
              " '4376',\n",
              " '439b6qwqtv',\n",
              " '43cema8ezu',\n",
              " '43g4lwwmb',\n",
              " '43jarpomap',\n",
              " '43tfgonrlq',\n",
              " '44',\n",
              " '44a07949a0647665',\n",
              " '44zkv7gkms',\n",
              " '45',\n",
              " '45d0sa9qr6',\n",
              " '45wutn5ga4',\n",
              " '46',\n",
              " '46hmurcyjt',\n",
              " '46i5vuwvw',\n",
              " '46wyjtiegd',\n",
              " '47',\n",
              " '473tsojdvsn',\n",
              " '473tsp0onqnn',\n",
              " '475dge0y8g',\n",
              " '47q4yqglua',\n",
              " '48',\n",
              " '4861lves',\n",
              " '48fm',\n",
              " '48h',\n",
              " '49',\n",
              " '493',\n",
              " '49mab28ail',\n",
              " '49rsqtkb4',\n",
              " '49si4zzjv',\n",
              " '4a6phtr0al',\n",
              " '4aahb02h86',\n",
              " '4aocgy0qe4',\n",
              " '4av5smro0g',\n",
              " '4b3gjkyc80',\n",
              " '4bnkk75pec',\n",
              " '4bnqyhvkl',\n",
              " '4c2r1zoymd',\n",
              " '4cdywl6hf0',\n",
              " '4cpsarhrbw',\n",
              " '4d5j3ef0vd',\n",
              " '4dbsg6qa5l',\n",
              " '4dclndmg8w',\n",
              " '4drmanq0qb',\n",
              " '4dwjoqsmvr',\n",
              " '4dzwz19czf',\n",
              " '4e',\n",
              " '4eg507hbjl',\n",
              " '4eihmj44wp',\n",
              " '4ejtrcgihqnn',\n",
              " '4ekhferotsnn',\n",
              " '4elbzlds8',\n",
              " '4eme',\n",
              " '4enson',\n",
              " '4esope',\n",
              " '4fbsahfscc',\n",
              " '4fd8ash0k0',\n",
              " '4fdycw7arv',\n",
              " '4gezenw1pc',\n",
              " '4h30non',\n",
              " '4h5pk8diyy',\n",
              " '4h7rqn30jb',\n",
              " '4hdaacatu',\n",
              " '4hsgq4z9ds',\n",
              " '4i0wrpvis',\n",
              " '4ib1ajo31m',\n",
              " '4inshield',\n",
              " '4j',\n",
              " '4jcwomhd1',\n",
              " '4kagvwnd2v',\n",
              " '4kai0cuje',\n",
              " '4kansendla',\n",
              " '4kf74ur419',\n",
              " '4kgvijmfh0nun',\n",
              " '4ktwnu35rz',\n",
              " '4l',\n",
              " '4lesmfgp5p',\n",
              " '4lezqbytqz',\n",
              " '4lozbbqf',\n",
              " '4lozbbqfnn',\n",
              " '4lozc9gd',\n",
              " '4me',\n",
              " '4mennjeu',\n",
              " '4mes',\n",
              " '4mes2',\n",
              " '4mre',\n",
              " '4n',\n",
              " '4n3vchkdm3',\n",
              " '4ng2ejjwep',\n",
              " '4nobmotfq5',\n",
              " '4ns0mpd2y2',\n",
              " '4oq2qci19c',\n",
              " '4ovywirnlu',\n",
              " '4owcjwb96q',\n",
              " '4p1p8trkkh',\n",
              " '4p7bqkjrp7',\n",
              " '4p7jpv8nbi',\n",
              " '4pfr7hp6c',\n",
              " '4pjzl9ahco',\n",
              " '4pqmtqusds',\n",
              " '4pysnyuuh4',\n",
              " '4q9hrr8zis',\n",
              " '4qobmecsy',\n",
              " '4qs44ddhsu',\n",
              " '4qs44ddpi2',\n",
              " '4qs9sbpgn',\n",
              " '4qtanffs',\n",
              " '4rgjp28ems',\n",
              " '4ronf7ehy3',\n",
              " '4ruvvfcuhd',\n",
              " '4ry9mudmzi',\n",
              " '4sf86ui8wv',\n",
              " '4sucres',\n",
              " '4surhbvrij',\n",
              " '4svlo99if6',\n",
              " '4t3zq1nren',\n",
              " '4tggznyu',\n",
              " '4tgjyjbti',\n",
              " '4tnh8juau7',\n",
              " '4u200d',\n",
              " '4u200dnn',\n",
              " '4uabshgkv',\n",
              " '4ul1bbcvqg',\n",
              " '4umlkylmzy',\n",
              " '4uy1vqc4wu',\n",
              " '4v2skmk3h',\n",
              " '4vlkjw5quhn',\n",
              " '4wcnuj5pf3nn',\n",
              " '4ym6pmapmo',\n",
              " '4z48ghm0lln',\n",
              " '4z7ukynt4',\n",
              " '4zdg39ft56',\n",
              " '4zhid5lghb',\n",
              " '4zvdwvu4n',\n",
              " '50',\n",
              " '500',\n",
              " '5000',\n",
              " '50n',\n",
              " '50nuancesdenba',\n",
              " '50ohqf2a3p',\n",
              " '51',\n",
              " ...]"
            ]
          },
          "metadata": {},
          "execution_count": 71
        }
      ]
    },
    {
      "cell_type": "code",
      "source": [
        "len(vectorizer.get_feature_names_out())"
      ],
      "metadata": {
        "colab": {
          "base_uri": "https://localhost:8080/"
        },
        "id": "av7Uwmi-yIt6",
        "outputId": "f9a195e8-e499-4f8f-9442-41c2e70a5eed"
      },
      "execution_count": 72,
      "outputs": [
        {
          "output_type": "execute_result",
          "data": {
            "text/plain": [
              "35366"
            ]
          },
          "metadata": {},
          "execution_count": 72
        }
      ]
    },
    {
      "cell_type": "code",
      "source": [
        "X_train_content = pd.DataFrame(\n",
        "    X_train_content_vec.toarray(),\n",
        "    columns = vectorizer.get_feature_names_out()\n",
        ")\n",
        "X_train_content"
      ],
      "metadata": {
        "colab": {
          "base_uri": "https://localhost:8080/",
          "height": 487
        },
        "id": "qNmCwZunyVqH",
        "outputId": "436f1ba6-f79f-4622-c50f-5e328baae08d"
      },
      "execution_count": 73,
      "outputs": [
        {
          "output_type": "execute_result",
          "data": {
            "text/plain": [
              "      00  000  000enfants  000nnhttps  001  009  01  013hvskuyt  0169304014n  \\\n",
              "0      0    0           0           0    0    0   0           0            0   \n",
              "1      0    0           0           0    0    0   0           0            0   \n",
              "2      0    0           0           0    0    0   0           0            0   \n",
              "3      0    0           0           0    0    0   0           0            0   \n",
              "4      0    0           0           0    0    0   0           0            0   \n",
              "...   ..  ...         ...         ...  ...  ...  ..         ...          ...   \n",
              "7993   0    0           0           0    0    0   0           0            0   \n",
              "7994   0    0           0           0    0    0   0           0            0   \n",
              "7995   0    0           0           0    0    0   0           0            0   \n",
              "7996   0    0           0           0    0    0   0           0            0   \n",
              "7997   0    0           0           0    0    0   0           0            0   \n",
              "\n",
              "      0172624621  ...  zyugwcvjj4  zyv6kusvyc  zywk0tadnl  zz3jsgnrte  \\\n",
              "0              0  ...           0           0           0           0   \n",
              "1              0  ...           0           0           0           0   \n",
              "2              0  ...           0           0           0           0   \n",
              "3              0  ...           0           0           0           0   \n",
              "4              0  ...           0           0           0           0   \n",
              "...          ...  ...         ...         ...         ...         ...   \n",
              "7993           0  ...           0           0           0           0   \n",
              "7994           0  ...           0           0           0           0   \n",
              "7995           0  ...           0           0           0           0   \n",
              "7996           0  ...           0           0           0           0   \n",
              "7997           0  ...           0           0           0           0   \n",
              "\n",
              "      zz4cjsjlyc  zz5k1jjyig  zz97bpqhgy  zzjmksfwl7  zzqu4t3m  zzzpdcvas  \n",
              "0              0           0           0           0         0          0  \n",
              "1              0           0           0           0         0          0  \n",
              "2              0           0           0           0         0          0  \n",
              "3              0           0           0           0         0          0  \n",
              "4              0           0           0           0         0          0  \n",
              "...          ...         ...         ...         ...       ...        ...  \n",
              "7993           0           0           0           0         0          0  \n",
              "7994           0           0           0           0         0          0  \n",
              "7995           0           0           0           0         0          0  \n",
              "7996           0           0           0           0         0          0  \n",
              "7997           0           0           0           0         0          0  \n",
              "\n",
              "[7998 rows x 35366 columns]"
            ],
            "text/html": [
              "\n",
              "  <div id=\"df-c0b1fce4-e0b9-425f-ae15-802cc2d28469\">\n",
              "    <div class=\"colab-df-container\">\n",
              "      <div>\n",
              "<style scoped>\n",
              "    .dataframe tbody tr th:only-of-type {\n",
              "        vertical-align: middle;\n",
              "    }\n",
              "\n",
              "    .dataframe tbody tr th {\n",
              "        vertical-align: top;\n",
              "    }\n",
              "\n",
              "    .dataframe thead th {\n",
              "        text-align: right;\n",
              "    }\n",
              "</style>\n",
              "<table border=\"1\" class=\"dataframe\">\n",
              "  <thead>\n",
              "    <tr style=\"text-align: right;\">\n",
              "      <th></th>\n",
              "      <th>00</th>\n",
              "      <th>000</th>\n",
              "      <th>000enfants</th>\n",
              "      <th>000nnhttps</th>\n",
              "      <th>001</th>\n",
              "      <th>009</th>\n",
              "      <th>01</th>\n",
              "      <th>013hvskuyt</th>\n",
              "      <th>0169304014n</th>\n",
              "      <th>0172624621</th>\n",
              "      <th>...</th>\n",
              "      <th>zyugwcvjj4</th>\n",
              "      <th>zyv6kusvyc</th>\n",
              "      <th>zywk0tadnl</th>\n",
              "      <th>zz3jsgnrte</th>\n",
              "      <th>zz4cjsjlyc</th>\n",
              "      <th>zz5k1jjyig</th>\n",
              "      <th>zz97bpqhgy</th>\n",
              "      <th>zzjmksfwl7</th>\n",
              "      <th>zzqu4t3m</th>\n",
              "      <th>zzzpdcvas</th>\n",
              "    </tr>\n",
              "  </thead>\n",
              "  <tbody>\n",
              "    <tr>\n",
              "      <th>0</th>\n",
              "      <td>0</td>\n",
              "      <td>0</td>\n",
              "      <td>0</td>\n",
              "      <td>0</td>\n",
              "      <td>0</td>\n",
              "      <td>0</td>\n",
              "      <td>0</td>\n",
              "      <td>0</td>\n",
              "      <td>0</td>\n",
              "      <td>0</td>\n",
              "      <td>...</td>\n",
              "      <td>0</td>\n",
              "      <td>0</td>\n",
              "      <td>0</td>\n",
              "      <td>0</td>\n",
              "      <td>0</td>\n",
              "      <td>0</td>\n",
              "      <td>0</td>\n",
              "      <td>0</td>\n",
              "      <td>0</td>\n",
              "      <td>0</td>\n",
              "    </tr>\n",
              "    <tr>\n",
              "      <th>1</th>\n",
              "      <td>0</td>\n",
              "      <td>0</td>\n",
              "      <td>0</td>\n",
              "      <td>0</td>\n",
              "      <td>0</td>\n",
              "      <td>0</td>\n",
              "      <td>0</td>\n",
              "      <td>0</td>\n",
              "      <td>0</td>\n",
              "      <td>0</td>\n",
              "      <td>...</td>\n",
              "      <td>0</td>\n",
              "      <td>0</td>\n",
              "      <td>0</td>\n",
              "      <td>0</td>\n",
              "      <td>0</td>\n",
              "      <td>0</td>\n",
              "      <td>0</td>\n",
              "      <td>0</td>\n",
              "      <td>0</td>\n",
              "      <td>0</td>\n",
              "    </tr>\n",
              "    <tr>\n",
              "      <th>2</th>\n",
              "      <td>0</td>\n",
              "      <td>0</td>\n",
              "      <td>0</td>\n",
              "      <td>0</td>\n",
              "      <td>0</td>\n",
              "      <td>0</td>\n",
              "      <td>0</td>\n",
              "      <td>0</td>\n",
              "      <td>0</td>\n",
              "      <td>0</td>\n",
              "      <td>...</td>\n",
              "      <td>0</td>\n",
              "      <td>0</td>\n",
              "      <td>0</td>\n",
              "      <td>0</td>\n",
              "      <td>0</td>\n",
              "      <td>0</td>\n",
              "      <td>0</td>\n",
              "      <td>0</td>\n",
              "      <td>0</td>\n",
              "      <td>0</td>\n",
              "    </tr>\n",
              "    <tr>\n",
              "      <th>3</th>\n",
              "      <td>0</td>\n",
              "      <td>0</td>\n",
              "      <td>0</td>\n",
              "      <td>0</td>\n",
              "      <td>0</td>\n",
              "      <td>0</td>\n",
              "      <td>0</td>\n",
              "      <td>0</td>\n",
              "      <td>0</td>\n",
              "      <td>0</td>\n",
              "      <td>...</td>\n",
              "      <td>0</td>\n",
              "      <td>0</td>\n",
              "      <td>0</td>\n",
              "      <td>0</td>\n",
              "      <td>0</td>\n",
              "      <td>0</td>\n",
              "      <td>0</td>\n",
              "      <td>0</td>\n",
              "      <td>0</td>\n",
              "      <td>0</td>\n",
              "    </tr>\n",
              "    <tr>\n",
              "      <th>4</th>\n",
              "      <td>0</td>\n",
              "      <td>0</td>\n",
              "      <td>0</td>\n",
              "      <td>0</td>\n",
              "      <td>0</td>\n",
              "      <td>0</td>\n",
              "      <td>0</td>\n",
              "      <td>0</td>\n",
              "      <td>0</td>\n",
              "      <td>0</td>\n",
              "      <td>...</td>\n",
              "      <td>0</td>\n",
              "      <td>0</td>\n",
              "      <td>0</td>\n",
              "      <td>0</td>\n",
              "      <td>0</td>\n",
              "      <td>0</td>\n",
              "      <td>0</td>\n",
              "      <td>0</td>\n",
              "      <td>0</td>\n",
              "      <td>0</td>\n",
              "    </tr>\n",
              "    <tr>\n",
              "      <th>...</th>\n",
              "      <td>...</td>\n",
              "      <td>...</td>\n",
              "      <td>...</td>\n",
              "      <td>...</td>\n",
              "      <td>...</td>\n",
              "      <td>...</td>\n",
              "      <td>...</td>\n",
              "      <td>...</td>\n",
              "      <td>...</td>\n",
              "      <td>...</td>\n",
              "      <td>...</td>\n",
              "      <td>...</td>\n",
              "      <td>...</td>\n",
              "      <td>...</td>\n",
              "      <td>...</td>\n",
              "      <td>...</td>\n",
              "      <td>...</td>\n",
              "      <td>...</td>\n",
              "      <td>...</td>\n",
              "      <td>...</td>\n",
              "      <td>...</td>\n",
              "    </tr>\n",
              "    <tr>\n",
              "      <th>7993</th>\n",
              "      <td>0</td>\n",
              "      <td>0</td>\n",
              "      <td>0</td>\n",
              "      <td>0</td>\n",
              "      <td>0</td>\n",
              "      <td>0</td>\n",
              "      <td>0</td>\n",
              "      <td>0</td>\n",
              "      <td>0</td>\n",
              "      <td>0</td>\n",
              "      <td>...</td>\n",
              "      <td>0</td>\n",
              "      <td>0</td>\n",
              "      <td>0</td>\n",
              "      <td>0</td>\n",
              "      <td>0</td>\n",
              "      <td>0</td>\n",
              "      <td>0</td>\n",
              "      <td>0</td>\n",
              "      <td>0</td>\n",
              "      <td>0</td>\n",
              "    </tr>\n",
              "    <tr>\n",
              "      <th>7994</th>\n",
              "      <td>0</td>\n",
              "      <td>0</td>\n",
              "      <td>0</td>\n",
              "      <td>0</td>\n",
              "      <td>0</td>\n",
              "      <td>0</td>\n",
              "      <td>0</td>\n",
              "      <td>0</td>\n",
              "      <td>0</td>\n",
              "      <td>0</td>\n",
              "      <td>...</td>\n",
              "      <td>0</td>\n",
              "      <td>0</td>\n",
              "      <td>0</td>\n",
              "      <td>0</td>\n",
              "      <td>0</td>\n",
              "      <td>0</td>\n",
              "      <td>0</td>\n",
              "      <td>0</td>\n",
              "      <td>0</td>\n",
              "      <td>0</td>\n",
              "    </tr>\n",
              "    <tr>\n",
              "      <th>7995</th>\n",
              "      <td>0</td>\n",
              "      <td>0</td>\n",
              "      <td>0</td>\n",
              "      <td>0</td>\n",
              "      <td>0</td>\n",
              "      <td>0</td>\n",
              "      <td>0</td>\n",
              "      <td>0</td>\n",
              "      <td>0</td>\n",
              "      <td>0</td>\n",
              "      <td>...</td>\n",
              "      <td>0</td>\n",
              "      <td>0</td>\n",
              "      <td>0</td>\n",
              "      <td>0</td>\n",
              "      <td>0</td>\n",
              "      <td>0</td>\n",
              "      <td>0</td>\n",
              "      <td>0</td>\n",
              "      <td>0</td>\n",
              "      <td>0</td>\n",
              "    </tr>\n",
              "    <tr>\n",
              "      <th>7996</th>\n",
              "      <td>0</td>\n",
              "      <td>0</td>\n",
              "      <td>0</td>\n",
              "      <td>0</td>\n",
              "      <td>0</td>\n",
              "      <td>0</td>\n",
              "      <td>0</td>\n",
              "      <td>0</td>\n",
              "      <td>0</td>\n",
              "      <td>0</td>\n",
              "      <td>...</td>\n",
              "      <td>0</td>\n",
              "      <td>0</td>\n",
              "      <td>0</td>\n",
              "      <td>0</td>\n",
              "      <td>0</td>\n",
              "      <td>0</td>\n",
              "      <td>0</td>\n",
              "      <td>0</td>\n",
              "      <td>0</td>\n",
              "      <td>0</td>\n",
              "    </tr>\n",
              "    <tr>\n",
              "      <th>7997</th>\n",
              "      <td>0</td>\n",
              "      <td>0</td>\n",
              "      <td>0</td>\n",
              "      <td>0</td>\n",
              "      <td>0</td>\n",
              "      <td>0</td>\n",
              "      <td>0</td>\n",
              "      <td>0</td>\n",
              "      <td>0</td>\n",
              "      <td>0</td>\n",
              "      <td>...</td>\n",
              "      <td>0</td>\n",
              "      <td>0</td>\n",
              "      <td>0</td>\n",
              "      <td>0</td>\n",
              "      <td>0</td>\n",
              "      <td>0</td>\n",
              "      <td>0</td>\n",
              "      <td>0</td>\n",
              "      <td>0</td>\n",
              "      <td>0</td>\n",
              "    </tr>\n",
              "  </tbody>\n",
              "</table>\n",
              "<p>7998 rows × 35366 columns</p>\n",
              "</div>\n",
              "      <button class=\"colab-df-convert\" onclick=\"convertToInteractive('df-c0b1fce4-e0b9-425f-ae15-802cc2d28469')\"\n",
              "              title=\"Convert this dataframe to an interactive table.\"\n",
              "              style=\"display:none;\">\n",
              "        \n",
              "  <svg xmlns=\"http://www.w3.org/2000/svg\" height=\"24px\"viewBox=\"0 0 24 24\"\n",
              "       width=\"24px\">\n",
              "    <path d=\"M0 0h24v24H0V0z\" fill=\"none\"/>\n",
              "    <path d=\"M18.56 5.44l.94 2.06.94-2.06 2.06-.94-2.06-.94-.94-2.06-.94 2.06-2.06.94zm-11 1L8.5 8.5l.94-2.06 2.06-.94-2.06-.94L8.5 2.5l-.94 2.06-2.06.94zm10 10l.94 2.06.94-2.06 2.06-.94-2.06-.94-.94-2.06-.94 2.06-2.06.94z\"/><path d=\"M17.41 7.96l-1.37-1.37c-.4-.4-.92-.59-1.43-.59-.52 0-1.04.2-1.43.59L10.3 9.45l-7.72 7.72c-.78.78-.78 2.05 0 2.83L4 21.41c.39.39.9.59 1.41.59.51 0 1.02-.2 1.41-.59l7.78-7.78 2.81-2.81c.8-.78.8-2.07 0-2.86zM5.41 20L4 18.59l7.72-7.72 1.47 1.35L5.41 20z\"/>\n",
              "  </svg>\n",
              "      </button>\n",
              "      \n",
              "  <style>\n",
              "    .colab-df-container {\n",
              "      display:flex;\n",
              "      flex-wrap:wrap;\n",
              "      gap: 12px;\n",
              "    }\n",
              "\n",
              "    .colab-df-convert {\n",
              "      background-color: #E8F0FE;\n",
              "      border: none;\n",
              "      border-radius: 50%;\n",
              "      cursor: pointer;\n",
              "      display: none;\n",
              "      fill: #1967D2;\n",
              "      height: 32px;\n",
              "      padding: 0 0 0 0;\n",
              "      width: 32px;\n",
              "    }\n",
              "\n",
              "    .colab-df-convert:hover {\n",
              "      background-color: #E2EBFA;\n",
              "      box-shadow: 0px 1px 2px rgba(60, 64, 67, 0.3), 0px 1px 3px 1px rgba(60, 64, 67, 0.15);\n",
              "      fill: #174EA6;\n",
              "    }\n",
              "\n",
              "    [theme=dark] .colab-df-convert {\n",
              "      background-color: #3B4455;\n",
              "      fill: #D2E3FC;\n",
              "    }\n",
              "\n",
              "    [theme=dark] .colab-df-convert:hover {\n",
              "      background-color: #434B5C;\n",
              "      box-shadow: 0px 1px 3px 1px rgba(0, 0, 0, 0.15);\n",
              "      filter: drop-shadow(0px 1px 2px rgba(0, 0, 0, 0.3));\n",
              "      fill: #FFFFFF;\n",
              "    }\n",
              "  </style>\n",
              "\n",
              "      <script>\n",
              "        const buttonEl =\n",
              "          document.querySelector('#df-c0b1fce4-e0b9-425f-ae15-802cc2d28469 button.colab-df-convert');\n",
              "        buttonEl.style.display =\n",
              "          google.colab.kernel.accessAllowed ? 'block' : 'none';\n",
              "\n",
              "        async function convertToInteractive(key) {\n",
              "          const element = document.querySelector('#df-c0b1fce4-e0b9-425f-ae15-802cc2d28469');\n",
              "          const dataTable =\n",
              "            await google.colab.kernel.invokeFunction('convertToInteractive',\n",
              "                                                     [key], {});\n",
              "          if (!dataTable) return;\n",
              "\n",
              "          const docLinkHtml = 'Like what you see? Visit the ' +\n",
              "            '<a target=\"_blank\" href=https://colab.research.google.com/notebooks/data_table.ipynb>data table notebook</a>'\n",
              "            + ' to learn more about interactive tables.';\n",
              "          element.innerHTML = '';\n",
              "          dataTable['output_type'] = 'display_data';\n",
              "          await google.colab.output.renderOutput(dataTable, element);\n",
              "          const docLink = document.createElement('div');\n",
              "          docLink.innerHTML = docLinkHtml;\n",
              "          element.appendChild(docLink);\n",
              "        }\n",
              "      </script>\n",
              "    </div>\n",
              "  </div>\n",
              "  "
            ]
          },
          "metadata": {},
          "execution_count": 73
        }
      ]
    },
    {
      "cell_type": "code",
      "source": [
        "X_test_content = pd.DataFrame(\n",
        "    X_test_content_vec.toarray(),\n",
        "    columns = vectorizer.get_feature_names_out()\n",
        ")\n",
        "X_test_content"
      ],
      "metadata": {
        "colab": {
          "base_uri": "https://localhost:8080/",
          "height": 487
        },
        "id": "xuJp5TOVz-RS",
        "outputId": "4d400d8a-2a9f-4061-f319-3118fd4b113f"
      },
      "execution_count": 74,
      "outputs": [
        {
          "output_type": "execute_result",
          "data": {
            "text/plain": [
              "      00  000  000enfants  000nnhttps  001  009  01  013hvskuyt  0169304014n  \\\n",
              "0      0    0           0           0    0    0   0           0            0   \n",
              "1      0    0           0           0    0    0   0           0            0   \n",
              "2      0    0           0           0    0    0   0           0            0   \n",
              "3      0    0           0           0    0    0   0           0            0   \n",
              "4      0    0           0           0    0    0   0           0            0   \n",
              "...   ..  ...         ...         ...  ...  ...  ..         ...          ...   \n",
              "1995   0    0           0           0    0    0   0           0            0   \n",
              "1996   0    0           0           0    0    0   0           0            0   \n",
              "1997   0    0           0           0    0    0   0           0            0   \n",
              "1998   0    0           0           0    0    0   0           0            0   \n",
              "1999   0    0           0           0    0    0   0           0            0   \n",
              "\n",
              "      0172624621  ...  zyugwcvjj4  zyv6kusvyc  zywk0tadnl  zz3jsgnrte  \\\n",
              "0              0  ...           0           0           0           0   \n",
              "1              0  ...           0           0           0           0   \n",
              "2              0  ...           0           0           0           0   \n",
              "3              0  ...           0           0           0           0   \n",
              "4              0  ...           0           0           0           0   \n",
              "...          ...  ...         ...         ...         ...         ...   \n",
              "1995           0  ...           0           0           0           0   \n",
              "1996           0  ...           0           0           0           0   \n",
              "1997           0  ...           0           0           0           0   \n",
              "1998           0  ...           0           0           0           0   \n",
              "1999           0  ...           0           0           0           0   \n",
              "\n",
              "      zz4cjsjlyc  zz5k1jjyig  zz97bpqhgy  zzjmksfwl7  zzqu4t3m  zzzpdcvas  \n",
              "0              0           0           0           0         0          0  \n",
              "1              0           0           0           0         0          0  \n",
              "2              0           0           0           0         0          0  \n",
              "3              0           0           0           0         0          0  \n",
              "4              0           0           0           0         0          0  \n",
              "...          ...         ...         ...         ...       ...        ...  \n",
              "1995           0           0           0           0         0          0  \n",
              "1996           0           0           0           0         0          0  \n",
              "1997           0           0           0           0         0          0  \n",
              "1998           0           0           0           0         0          0  \n",
              "1999           0           0           0           0         0          0  \n",
              "\n",
              "[2000 rows x 35366 columns]"
            ],
            "text/html": [
              "\n",
              "  <div id=\"df-55ae5d00-3e20-486e-808c-6d84c16ba445\">\n",
              "    <div class=\"colab-df-container\">\n",
              "      <div>\n",
              "<style scoped>\n",
              "    .dataframe tbody tr th:only-of-type {\n",
              "        vertical-align: middle;\n",
              "    }\n",
              "\n",
              "    .dataframe tbody tr th {\n",
              "        vertical-align: top;\n",
              "    }\n",
              "\n",
              "    .dataframe thead th {\n",
              "        text-align: right;\n",
              "    }\n",
              "</style>\n",
              "<table border=\"1\" class=\"dataframe\">\n",
              "  <thead>\n",
              "    <tr style=\"text-align: right;\">\n",
              "      <th></th>\n",
              "      <th>00</th>\n",
              "      <th>000</th>\n",
              "      <th>000enfants</th>\n",
              "      <th>000nnhttps</th>\n",
              "      <th>001</th>\n",
              "      <th>009</th>\n",
              "      <th>01</th>\n",
              "      <th>013hvskuyt</th>\n",
              "      <th>0169304014n</th>\n",
              "      <th>0172624621</th>\n",
              "      <th>...</th>\n",
              "      <th>zyugwcvjj4</th>\n",
              "      <th>zyv6kusvyc</th>\n",
              "      <th>zywk0tadnl</th>\n",
              "      <th>zz3jsgnrte</th>\n",
              "      <th>zz4cjsjlyc</th>\n",
              "      <th>zz5k1jjyig</th>\n",
              "      <th>zz97bpqhgy</th>\n",
              "      <th>zzjmksfwl7</th>\n",
              "      <th>zzqu4t3m</th>\n",
              "      <th>zzzpdcvas</th>\n",
              "    </tr>\n",
              "  </thead>\n",
              "  <tbody>\n",
              "    <tr>\n",
              "      <th>0</th>\n",
              "      <td>0</td>\n",
              "      <td>0</td>\n",
              "      <td>0</td>\n",
              "      <td>0</td>\n",
              "      <td>0</td>\n",
              "      <td>0</td>\n",
              "      <td>0</td>\n",
              "      <td>0</td>\n",
              "      <td>0</td>\n",
              "      <td>0</td>\n",
              "      <td>...</td>\n",
              "      <td>0</td>\n",
              "      <td>0</td>\n",
              "      <td>0</td>\n",
              "      <td>0</td>\n",
              "      <td>0</td>\n",
              "      <td>0</td>\n",
              "      <td>0</td>\n",
              "      <td>0</td>\n",
              "      <td>0</td>\n",
              "      <td>0</td>\n",
              "    </tr>\n",
              "    <tr>\n",
              "      <th>1</th>\n",
              "      <td>0</td>\n",
              "      <td>0</td>\n",
              "      <td>0</td>\n",
              "      <td>0</td>\n",
              "      <td>0</td>\n",
              "      <td>0</td>\n",
              "      <td>0</td>\n",
              "      <td>0</td>\n",
              "      <td>0</td>\n",
              "      <td>0</td>\n",
              "      <td>...</td>\n",
              "      <td>0</td>\n",
              "      <td>0</td>\n",
              "      <td>0</td>\n",
              "      <td>0</td>\n",
              "      <td>0</td>\n",
              "      <td>0</td>\n",
              "      <td>0</td>\n",
              "      <td>0</td>\n",
              "      <td>0</td>\n",
              "      <td>0</td>\n",
              "    </tr>\n",
              "    <tr>\n",
              "      <th>2</th>\n",
              "      <td>0</td>\n",
              "      <td>0</td>\n",
              "      <td>0</td>\n",
              "      <td>0</td>\n",
              "      <td>0</td>\n",
              "      <td>0</td>\n",
              "      <td>0</td>\n",
              "      <td>0</td>\n",
              "      <td>0</td>\n",
              "      <td>0</td>\n",
              "      <td>...</td>\n",
              "      <td>0</td>\n",
              "      <td>0</td>\n",
              "      <td>0</td>\n",
              "      <td>0</td>\n",
              "      <td>0</td>\n",
              "      <td>0</td>\n",
              "      <td>0</td>\n",
              "      <td>0</td>\n",
              "      <td>0</td>\n",
              "      <td>0</td>\n",
              "    </tr>\n",
              "    <tr>\n",
              "      <th>3</th>\n",
              "      <td>0</td>\n",
              "      <td>0</td>\n",
              "      <td>0</td>\n",
              "      <td>0</td>\n",
              "      <td>0</td>\n",
              "      <td>0</td>\n",
              "      <td>0</td>\n",
              "      <td>0</td>\n",
              "      <td>0</td>\n",
              "      <td>0</td>\n",
              "      <td>...</td>\n",
              "      <td>0</td>\n",
              "      <td>0</td>\n",
              "      <td>0</td>\n",
              "      <td>0</td>\n",
              "      <td>0</td>\n",
              "      <td>0</td>\n",
              "      <td>0</td>\n",
              "      <td>0</td>\n",
              "      <td>0</td>\n",
              "      <td>0</td>\n",
              "    </tr>\n",
              "    <tr>\n",
              "      <th>4</th>\n",
              "      <td>0</td>\n",
              "      <td>0</td>\n",
              "      <td>0</td>\n",
              "      <td>0</td>\n",
              "      <td>0</td>\n",
              "      <td>0</td>\n",
              "      <td>0</td>\n",
              "      <td>0</td>\n",
              "      <td>0</td>\n",
              "      <td>0</td>\n",
              "      <td>...</td>\n",
              "      <td>0</td>\n",
              "      <td>0</td>\n",
              "      <td>0</td>\n",
              "      <td>0</td>\n",
              "      <td>0</td>\n",
              "      <td>0</td>\n",
              "      <td>0</td>\n",
              "      <td>0</td>\n",
              "      <td>0</td>\n",
              "      <td>0</td>\n",
              "    </tr>\n",
              "    <tr>\n",
              "      <th>...</th>\n",
              "      <td>...</td>\n",
              "      <td>...</td>\n",
              "      <td>...</td>\n",
              "      <td>...</td>\n",
              "      <td>...</td>\n",
              "      <td>...</td>\n",
              "      <td>...</td>\n",
              "      <td>...</td>\n",
              "      <td>...</td>\n",
              "      <td>...</td>\n",
              "      <td>...</td>\n",
              "      <td>...</td>\n",
              "      <td>...</td>\n",
              "      <td>...</td>\n",
              "      <td>...</td>\n",
              "      <td>...</td>\n",
              "      <td>...</td>\n",
              "      <td>...</td>\n",
              "      <td>...</td>\n",
              "      <td>...</td>\n",
              "      <td>...</td>\n",
              "    </tr>\n",
              "    <tr>\n",
              "      <th>1995</th>\n",
              "      <td>0</td>\n",
              "      <td>0</td>\n",
              "      <td>0</td>\n",
              "      <td>0</td>\n",
              "      <td>0</td>\n",
              "      <td>0</td>\n",
              "      <td>0</td>\n",
              "      <td>0</td>\n",
              "      <td>0</td>\n",
              "      <td>0</td>\n",
              "      <td>...</td>\n",
              "      <td>0</td>\n",
              "      <td>0</td>\n",
              "      <td>0</td>\n",
              "      <td>0</td>\n",
              "      <td>0</td>\n",
              "      <td>0</td>\n",
              "      <td>0</td>\n",
              "      <td>0</td>\n",
              "      <td>0</td>\n",
              "      <td>0</td>\n",
              "    </tr>\n",
              "    <tr>\n",
              "      <th>1996</th>\n",
              "      <td>0</td>\n",
              "      <td>0</td>\n",
              "      <td>0</td>\n",
              "      <td>0</td>\n",
              "      <td>0</td>\n",
              "      <td>0</td>\n",
              "      <td>0</td>\n",
              "      <td>0</td>\n",
              "      <td>0</td>\n",
              "      <td>0</td>\n",
              "      <td>...</td>\n",
              "      <td>0</td>\n",
              "      <td>0</td>\n",
              "      <td>0</td>\n",
              "      <td>0</td>\n",
              "      <td>0</td>\n",
              "      <td>0</td>\n",
              "      <td>0</td>\n",
              "      <td>0</td>\n",
              "      <td>0</td>\n",
              "      <td>0</td>\n",
              "    </tr>\n",
              "    <tr>\n",
              "      <th>1997</th>\n",
              "      <td>0</td>\n",
              "      <td>0</td>\n",
              "      <td>0</td>\n",
              "      <td>0</td>\n",
              "      <td>0</td>\n",
              "      <td>0</td>\n",
              "      <td>0</td>\n",
              "      <td>0</td>\n",
              "      <td>0</td>\n",
              "      <td>0</td>\n",
              "      <td>...</td>\n",
              "      <td>0</td>\n",
              "      <td>0</td>\n",
              "      <td>0</td>\n",
              "      <td>0</td>\n",
              "      <td>0</td>\n",
              "      <td>0</td>\n",
              "      <td>0</td>\n",
              "      <td>0</td>\n",
              "      <td>0</td>\n",
              "      <td>0</td>\n",
              "    </tr>\n",
              "    <tr>\n",
              "      <th>1998</th>\n",
              "      <td>0</td>\n",
              "      <td>0</td>\n",
              "      <td>0</td>\n",
              "      <td>0</td>\n",
              "      <td>0</td>\n",
              "      <td>0</td>\n",
              "      <td>0</td>\n",
              "      <td>0</td>\n",
              "      <td>0</td>\n",
              "      <td>0</td>\n",
              "      <td>...</td>\n",
              "      <td>0</td>\n",
              "      <td>0</td>\n",
              "      <td>0</td>\n",
              "      <td>0</td>\n",
              "      <td>0</td>\n",
              "      <td>0</td>\n",
              "      <td>0</td>\n",
              "      <td>0</td>\n",
              "      <td>0</td>\n",
              "      <td>0</td>\n",
              "    </tr>\n",
              "    <tr>\n",
              "      <th>1999</th>\n",
              "      <td>0</td>\n",
              "      <td>0</td>\n",
              "      <td>0</td>\n",
              "      <td>0</td>\n",
              "      <td>0</td>\n",
              "      <td>0</td>\n",
              "      <td>0</td>\n",
              "      <td>0</td>\n",
              "      <td>0</td>\n",
              "      <td>0</td>\n",
              "      <td>...</td>\n",
              "      <td>0</td>\n",
              "      <td>0</td>\n",
              "      <td>0</td>\n",
              "      <td>0</td>\n",
              "      <td>0</td>\n",
              "      <td>0</td>\n",
              "      <td>0</td>\n",
              "      <td>0</td>\n",
              "      <td>0</td>\n",
              "      <td>0</td>\n",
              "    </tr>\n",
              "  </tbody>\n",
              "</table>\n",
              "<p>2000 rows × 35366 columns</p>\n",
              "</div>\n",
              "      <button class=\"colab-df-convert\" onclick=\"convertToInteractive('df-55ae5d00-3e20-486e-808c-6d84c16ba445')\"\n",
              "              title=\"Convert this dataframe to an interactive table.\"\n",
              "              style=\"display:none;\">\n",
              "        \n",
              "  <svg xmlns=\"http://www.w3.org/2000/svg\" height=\"24px\"viewBox=\"0 0 24 24\"\n",
              "       width=\"24px\">\n",
              "    <path d=\"M0 0h24v24H0V0z\" fill=\"none\"/>\n",
              "    <path d=\"M18.56 5.44l.94 2.06.94-2.06 2.06-.94-2.06-.94-.94-2.06-.94 2.06-2.06.94zm-11 1L8.5 8.5l.94-2.06 2.06-.94-2.06-.94L8.5 2.5l-.94 2.06-2.06.94zm10 10l.94 2.06.94-2.06 2.06-.94-2.06-.94-.94-2.06-.94 2.06-2.06.94z\"/><path d=\"M17.41 7.96l-1.37-1.37c-.4-.4-.92-.59-1.43-.59-.52 0-1.04.2-1.43.59L10.3 9.45l-7.72 7.72c-.78.78-.78 2.05 0 2.83L4 21.41c.39.39.9.59 1.41.59.51 0 1.02-.2 1.41-.59l7.78-7.78 2.81-2.81c.8-.78.8-2.07 0-2.86zM5.41 20L4 18.59l7.72-7.72 1.47 1.35L5.41 20z\"/>\n",
              "  </svg>\n",
              "      </button>\n",
              "      \n",
              "  <style>\n",
              "    .colab-df-container {\n",
              "      display:flex;\n",
              "      flex-wrap:wrap;\n",
              "      gap: 12px;\n",
              "    }\n",
              "\n",
              "    .colab-df-convert {\n",
              "      background-color: #E8F0FE;\n",
              "      border: none;\n",
              "      border-radius: 50%;\n",
              "      cursor: pointer;\n",
              "      display: none;\n",
              "      fill: #1967D2;\n",
              "      height: 32px;\n",
              "      padding: 0 0 0 0;\n",
              "      width: 32px;\n",
              "    }\n",
              "\n",
              "    .colab-df-convert:hover {\n",
              "      background-color: #E2EBFA;\n",
              "      box-shadow: 0px 1px 2px rgba(60, 64, 67, 0.3), 0px 1px 3px 1px rgba(60, 64, 67, 0.15);\n",
              "      fill: #174EA6;\n",
              "    }\n",
              "\n",
              "    [theme=dark] .colab-df-convert {\n",
              "      background-color: #3B4455;\n",
              "      fill: #D2E3FC;\n",
              "    }\n",
              "\n",
              "    [theme=dark] .colab-df-convert:hover {\n",
              "      background-color: #434B5C;\n",
              "      box-shadow: 0px 1px 3px 1px rgba(0, 0, 0, 0.15);\n",
              "      filter: drop-shadow(0px 1px 2px rgba(0, 0, 0, 0.3));\n",
              "      fill: #FFFFFF;\n",
              "    }\n",
              "  </style>\n",
              "\n",
              "      <script>\n",
              "        const buttonEl =\n",
              "          document.querySelector('#df-55ae5d00-3e20-486e-808c-6d84c16ba445 button.colab-df-convert');\n",
              "        buttonEl.style.display =\n",
              "          google.colab.kernel.accessAllowed ? 'block' : 'none';\n",
              "\n",
              "        async function convertToInteractive(key) {\n",
              "          const element = document.querySelector('#df-55ae5d00-3e20-486e-808c-6d84c16ba445');\n",
              "          const dataTable =\n",
              "            await google.colab.kernel.invokeFunction('convertToInteractive',\n",
              "                                                     [key], {});\n",
              "          if (!dataTable) return;\n",
              "\n",
              "          const docLinkHtml = 'Like what you see? Visit the ' +\n",
              "            '<a target=\"_blank\" href=https://colab.research.google.com/notebooks/data_table.ipynb>data table notebook</a>'\n",
              "            + ' to learn more about interactive tables.';\n",
              "          element.innerHTML = '';\n",
              "          dataTable['output_type'] = 'display_data';\n",
              "          await google.colab.output.renderOutput(dataTable, element);\n",
              "          const docLink = document.createElement('div');\n",
              "          docLink.innerHTML = docLinkHtml;\n",
              "          element.appendChild(docLink);\n",
              "        }\n",
              "      </script>\n",
              "    </div>\n",
              "  </div>\n",
              "  "
            ]
          },
          "metadata": {},
          "execution_count": 74
        }
      ]
    },
    {
      "cell_type": "markdown",
      "source": [
        "**Modelisation avec random forest**\n",
        "\n",
        "Les forêts aléatoires combinent plusieurs arbres de décision pour faire des prédictions. \n",
        "\n",
        "Les forêts aléatoires sont plus robustes aux données bruyantes ou aberrantes car elles utilisent la moyenne des prédictions de plusieurs arbres pour faire des prédictions.\n",
        "\n",
        "Les forêts aléatoires peuvent gérer efficacement à la fois des variables continues et catégorielles, ce qui est souvent le cas pour les données de textes utilisées pour l'analyse de sentiments.\n",
        "\n",
        "Ils permettent de mesurer l'importance relative de chaque feature et d'estimer les interactions.\n",
        "\n",
        "Les forêts aléatoires peuvent facilement gérer des données manquantes dans les entrées grace au bagging.\n"
      ],
      "metadata": {
        "id": "GtPWUAXEzIKC"
      }
    },
    {
      "cell_type": "code",
      "source": [
        "from pandas.core.common import random_state\n",
        "from sklearn.ensemble import RandomForestClassifier\n",
        "from sklearn.model_selection import cross_val_score\n",
        "from sklearn.model_selection import GridSearchCV"
      ],
      "metadata": {
        "id": "bD4aeHPgzE0f"
      },
      "execution_count": 80,
      "outputs": []
    },
    {
      "cell_type": "code",
      "source": [
        "param_grid = { \n",
        "    'n_estimators': [200, 500],\n",
        "    'max_features': ['auto', 'sqrt', 'log2'],\n",
        "    'max_depth' : [4,5,6,7,8],\n",
        "    'criterion' :['gini', 'entropy']\n",
        "}"
      ],
      "metadata": {
        "id": "4OXhscGbs-Qa"
      },
      "execution_count": 79,
      "outputs": []
    },
    {
      "cell_type": "code",
      "source": [
        "rfc=RandomForestClassifier(random_state=seed)"
      ],
      "metadata": {
        "id": "4V37BnPpt9Kc"
      },
      "execution_count": 82,
      "outputs": []
    },
    {
      "cell_type": "code",
      "source": [
        "CV_rfc = GridSearchCV(estimator=rfc, param_grid=param_grid, cv= 5)\n",
        "CV_rfc.fit(X_train_content_vec, y_train)"
      ],
      "metadata": {
        "colab": {
          "base_uri": "https://localhost:8080/"
        },
        "id": "o8DkJDlitB7S",
        "outputId": "63eb4f23-aed0-4894-c6fd-442c9b278019"
      },
      "execution_count": 83,
      "outputs": [
        {
          "output_type": "execute_result",
          "data": {
            "text/plain": [
              "GridSearchCV(cv=5, estimator=RandomForestClassifier(random_state=123),\n",
              "             param_grid={'criterion': ['gini', 'entropy'],\n",
              "                         'max_depth': [4, 5, 6, 7, 8],\n",
              "                         'max_features': ['auto', 'sqrt', 'log2'],\n",
              "                         'n_estimators': [200, 500]})"
            ]
          },
          "metadata": {},
          "execution_count": 83
        }
      ]
    },
    {
      "cell_type": "code",
      "source": [
        "CV_rfc.best_params_"
      ],
      "metadata": {
        "colab": {
          "base_uri": "https://localhost:8080/"
        },
        "id": "VxcENAF2tJ87",
        "outputId": "58b9e101-94f6-4943-9c2b-67250edf8393"
      },
      "execution_count": 84,
      "outputs": [
        {
          "output_type": "execute_result",
          "data": {
            "text/plain": [
              "{'criterion': 'gini',\n",
              " 'max_depth': 4,\n",
              " 'max_features': 'auto',\n",
              " 'n_estimators': 200}"
            ]
          },
          "metadata": {},
          "execution_count": 84
        }
      ]
    },
    {
      "cell_type": "code",
      "source": [
        "rfc1=RandomForestClassifier(random_state=42, max_features='auto', n_estimators= 200, max_depth=8, criterion='gini')"
      ],
      "metadata": {
        "id": "wkzQX2mItRCJ"
      },
      "execution_count": 85,
      "outputs": []
    },
    {
      "cell_type": "code",
      "source": [
        "rfc1.fit(X_train_content_vec, y_train)"
      ],
      "metadata": {
        "colab": {
          "base_uri": "https://localhost:8080/"
        },
        "id": "h82lLskms_ma",
        "outputId": "f0a63e9e-16fa-46d7-e6be-94537a83f490"
      },
      "execution_count": 86,
      "outputs": [
        {
          "output_type": "execute_result",
          "data": {
            "text/plain": [
              "RandomForestClassifier(max_depth=8, n_estimators=200, random_state=42)"
            ]
          },
          "metadata": {},
          "execution_count": 86
        }
      ]
    },
    {
      "cell_type": "code",
      "source": [
        "pred=rfc1.predict(X_test_content)"
      ],
      "metadata": {
        "colab": {
          "base_uri": "https://localhost:8080/"
        },
        "id": "z2aDUyuOudox",
        "outputId": "b24e1071-0a42-4580-ba6a-60610fee59e7"
      },
      "execution_count": 87,
      "outputs": [
        {
          "output_type": "stream",
          "name": "stderr",
          "text": [
            "/usr/local/lib/python3.8/dist-packages/sklearn/base.py:443: UserWarning: X has feature names, but RandomForestClassifier was fitted without feature names\n",
            "  warnings.warn(\n"
          ]
        }
      ]
    },
    {
      "cell_type": "code",
      "source": [
        "from sklearn.metrics import accuracy_score\n",
        "\n",
        "print(\"Accuracy pour Random Forest : \",accuracy_score(y_test,pred))"
      ],
      "metadata": {
        "colab": {
          "base_uri": "https://localhost:8080/"
        },
        "id": "aUXT0ROoulBp",
        "outputId": "1fbe7bd3-099b-4056-8bf2-c9535e69a9c8"
      },
      "execution_count": 88,
      "outputs": [
        {
          "output_type": "stream",
          "name": "stdout",
          "text": [
            "Accuracy pour Random Forest :  0.9195\n"
          ]
        }
      ]
    },
    {
      "cell_type": "code",
      "source": [
        "from sklearn.metrics import classification_report\n",
        "print(classification_report(y_test, rfc1.predict(X_test_content)))"
      ],
      "metadata": {
        "id": "k1Wcowwc5TFr"
      },
      "execution_count": null,
      "outputs": []
    },
    {
      "cell_type": "code",
      "source": [
        "cd \"/content/drive/MyDrive/Journee_observation/randomForest\""
      ],
      "metadata": {
        "colab": {
          "base_uri": "https://localhost:8080/"
        },
        "id": "wz7VKfwGv3D6",
        "outputId": "859ec570-acf1-4dcf-b91c-38105e59409a"
      },
      "execution_count": 102,
      "outputs": [
        {
          "output_type": "stream",
          "name": "stdout",
          "text": [
            "/content/drive/MyDrive/Journee_observation/randomForest\n"
          ]
        }
      ]
    },
    {
      "cell_type": "code",
      "source": [
        "from joblib import dump\n",
        "\n",
        "dump(vectorizer,\"vectors.joblib\")\n",
        "dump(rfc1,\"model.joblib\")"
      ],
      "metadata": {
        "colab": {
          "base_uri": "https://localhost:8080/"
        },
        "id": "zNquJxkQvRs3",
        "outputId": "d7a394a5-a077-4265-f068-aef5698cc9d7"
      },
      "execution_count": 92,
      "outputs": [
        {
          "output_type": "execute_result",
          "data": {
            "text/plain": [
              "['model.joblib']"
            ]
          },
          "metadata": {},
          "execution_count": 92
        }
      ]
    },
    {
      "cell_type": "code",
      "source": [
        "import pickle\n",
        "\n",
        "pickle.dump(rfc1, open(\"model_randomm.pkl\", \"wb\"))"
      ],
      "metadata": {
        "id": "QgUiNq69zVOn"
      },
      "execution_count": 105,
      "outputs": []
    },
    {
      "cell_type": "markdown",
      "source": [
        "**Modelisation arbre de decision**\n",
        "\n",
        "J'ai utilisé les arbres de decisions car ce n'est pas difficile à iinterpréter (donc comprendre).\n",
        "Ils représentent les décisions prises pour arriver à une prédiction sous forme de règles simples et compréhensibles\n",
        "\n",
        "Ils permettent de gerer efficacement les variables catégorielles.\n",
        "\n",
        "Les arbres de décision peuvent être entraînés et utilisés pour faire des prédictions très rapidement, ce qui est souvent souhaitable pour les applications en temps réel.\n",
        "\n"
      ],
      "metadata": {
        "id": "14_qxjba6Yvx"
      }
    },
    {
      "cell_type": "code",
      "source": [
        "import pandas as pd\n",
        "from sklearn.model_selection import train_test_split\n",
        "from sklearn.feature_extraction.text import CountVectorizer\n",
        "from sklearn.metrics import accuracy_score\n",
        "from sklearn.tree import DecisionTreeClassifier\n",
        "\n",
        "\n",
        "clf = DecisionTreeClassifier()\n",
        "\n",
        "depth_grid = [1, 3, 5, 10, 20, 30, 40, 50, None] \n",
        "\n",
        "parameters = {'max_depth': depth_grid} \n",
        "\n",
        "clf_tree_grid = GridSearchCV(clf, parameters, cv=5)\n",
        "\n",
        "clf_tree_grid.fit(X_train_content_vec, y_train)\n",
        "\n"
      ],
      "metadata": {
        "colab": {
          "base_uri": "https://localhost:8080/"
        },
        "id": "L34CnL9N6e6R",
        "outputId": "8f71bec4-7b73-44ab-bb8e-14d58cc7c8b7"
      },
      "execution_count": 95,
      "outputs": [
        {
          "output_type": "execute_result",
          "data": {
            "text/plain": [
              "GridSearchCV(cv=5, estimator=DecisionTreeClassifier(),\n",
              "             param_grid={'max_depth': [1, 3, 5, 10, 20, 30, 40, 50, None]})"
            ]
          },
          "metadata": {},
          "execution_count": 95
        }
      ]
    },
    {
      "cell_type": "code",
      "source": [
        "clf_tree_grid.best_params_"
      ],
      "metadata": {
        "colab": {
          "base_uri": "https://localhost:8080/"
        },
        "id": "wAmB8Lhqxvwd",
        "outputId": "bd75868b-d93d-4bcf-e54f-cee44f31f0df"
      },
      "execution_count": 96,
      "outputs": [
        {
          "output_type": "execute_result",
          "data": {
            "text/plain": [
              "{'max_depth': 5}"
            ]
          },
          "metadata": {},
          "execution_count": 96
        }
      ]
    },
    {
      "cell_type": "code",
      "source": [
        "rfc1=RandomForestClassifier(random_state=42, max_features='auto', n_estimators= 200, max_depth=8, criterion='gini')"
      ],
      "metadata": {
        "id": "b79ujHiAyKHG"
      },
      "execution_count": null,
      "outputs": []
    },
    {
      "cell_type": "code",
      "source": [
        "clf = DecisionTreeClassifier(criterion='gini', max_depth=5, max_features=None, random_state=42)"
      ],
      "metadata": {
        "id": "CZLv43Iwx4f9"
      },
      "execution_count": 97,
      "outputs": []
    },
    {
      "cell_type": "code",
      "source": [
        "clf.fit(X_train_content_vec, y_train)\n",
        "\n",
        "predictions = clf.predict(X_test_content)\n",
        "print(\"Accuracy:\", accuracy_score(y_test, predictions))\n"
      ],
      "metadata": {
        "colab": {
          "base_uri": "https://localhost:8080/"
        },
        "id": "PQQPJ98FxZM7",
        "outputId": "c1310f3b-86c9-4c87-ed6a-2b528349c145"
      },
      "execution_count": 98,
      "outputs": [
        {
          "output_type": "stream",
          "name": "stderr",
          "text": [
            "/usr/local/lib/python3.8/dist-packages/sklearn/base.py:443: UserWarning: X has feature names, but DecisionTreeClassifier was fitted without feature names\n",
            "  warnings.warn(\n"
          ]
        },
        {
          "output_type": "stream",
          "name": "stdout",
          "text": [
            "Accuracy: 0.94\n"
          ]
        }
      ]
    },
    {
      "cell_type": "code",
      "source": [
        "print(classification_report(y_test, clf.predict(X_test_content)))"
      ],
      "metadata": {
        "colab": {
          "base_uri": "https://localhost:8080/"
        },
        "id": "3g003MN08nbq",
        "outputId": "af38dce3-4859-4a90-d8a9-bafa953830ff"
      },
      "execution_count": 99,
      "outputs": [
        {
          "output_type": "stream",
          "name": "stderr",
          "text": [
            "/usr/local/lib/python3.8/dist-packages/sklearn/base.py:443: UserWarning: X has feature names, but DecisionTreeClassifier was fitted without feature names\n",
            "  warnings.warn(\n"
          ]
        },
        {
          "output_type": "stream",
          "name": "stdout",
          "text": [
            "              precision    recall  f1-score   support\n",
            "\n",
            "           0       0.94      0.99      0.97      1839\n",
            "           1       0.82      0.33      0.47       161\n",
            "\n",
            "    accuracy                           0.94      2000\n",
            "   macro avg       0.88      0.66      0.72      2000\n",
            "weighted avg       0.93      0.94      0.93      2000\n",
            "\n"
          ]
        }
      ]
    },
    {
      "cell_type": "code",
      "source": [
        "cd \"/content/drive/MyDrive/Journee_observation/Arbredecision\""
      ],
      "metadata": {
        "colab": {
          "base_uri": "https://localhost:8080/"
        },
        "id": "vyltd27Gyxo9",
        "outputId": "e6a591c4-6786-47cf-8b19-1238770e2b69"
      },
      "execution_count": 106,
      "outputs": [
        {
          "output_type": "stream",
          "name": "stdout",
          "text": [
            "/content/drive/MyDrive/Journee_observation/Arbredecision\n"
          ]
        }
      ]
    },
    {
      "cell_type": "code",
      "source": [
        "from joblib import dump\n",
        "\n",
        "dump(vectorizer,\"vectors.joblib\")\n",
        "dump(rfc1,\"modelAbre.joblib\")"
      ],
      "metadata": {
        "colab": {
          "base_uri": "https://localhost:8080/"
        },
        "id": "9RFoZGI2yy4p",
        "outputId": "da239aec-8c42-4a06-beb6-2ecb2a784d6e"
      },
      "execution_count": 101,
      "outputs": [
        {
          "output_type": "execute_result",
          "data": {
            "text/plain": [
              "['modelAbre.joblib']"
            ]
          },
          "metadata": {},
          "execution_count": 101
        }
      ]
    },
    {
      "cell_type": "code",
      "source": [
        "import pickle\n",
        "\n",
        "pickle.dump(clf, open(\"model_arbre.pkl\", \"wb\"))"
      ],
      "metadata": {
        "id": "xZuf9UqBzpUD"
      },
      "execution_count": 107,
      "outputs": []
    },
    {
      "cell_type": "markdown",
      "source": [
        "**Modelisation LSTM**"
      ],
      "metadata": {
        "id": "cGMl03EU87HK"
      }
    },
    {
      "cell_type": "code",
      "source": [
        "X_train_bert, X_test_bert, y_train_bert, y_test_bert = train_test_split(df['Texte'], df['label'], test_size=0.2, random_state=seed)\n",
        "\n",
        "X_train_bert, X_val_bert, y_train_bert, y_val_bert = train_test_split(X_train_bert, y_train_bert, test_size=0.25, random_state=seed) "
      ],
      "metadata": {
        "id": "p99R9FvpF2vC"
      },
      "execution_count": null,
      "outputs": []
    },
    {
      "cell_type": "code",
      "source": [
        "import pandas as pd\n",
        "from sklearn.model_selection import train_test_split\n",
        "from sklearn.feature_extraction.text import CountVectorizer\n",
        "from keras.preprocessing.text import Tokenizer\n",
        "from keras_preprocessing.sequence import pad_sequences\n",
        "from keras.models import Sequential\n",
        "from keras.layers import Dense, Embedding, LSTM, SpatialDropout1D\n",
        "from keras.callbacks import EarlyStopping\n",
        "from sklearn.metrics import f1_score\n",
        "\n",
        "train_x, test_x, train_y, test_y = train_test_split(df['Texte'], df['label'], test_size=0.2, random_state=seed)\n",
        "\n",
        "tokenizer = Tokenizer()\n",
        "tokenizer.fit_on_texts(train_x)\n",
        "train_x = tokenizer.texts_to_sequences(train_x)\n",
        "test_x = tokenizer.texts_to_sequences(test_x)\n",
        "\n",
        "maxlen = 100\n",
        "train_x = pad_sequences(train_x, padding='post', maxlen=maxlen)\n",
        "test_x = pad_sequences(test_x, padding='post', maxlen=maxlen)\n",
        "\n"
      ],
      "metadata": {
        "id": "yBpvzcBQHUdC"
      },
      "execution_count": null,
      "outputs": []
    },
    {
      "cell_type": "code",
      "source": [
        "train_x.shape"
      ],
      "metadata": {
        "colab": {
          "base_uri": "https://localhost:8080/"
        },
        "id": "Ch0wwi13IVY6",
        "outputId": "b3710f91-b5fd-418f-9309-7dda0d891bce"
      },
      "execution_count": null,
      "outputs": [
        {
          "output_type": "execute_result",
          "data": {
            "text/plain": [
              "(7998, 100)"
            ]
          },
          "metadata": {},
          "execution_count": 83
        }
      ]
    },
    {
      "cell_type": "code",
      "source": [
        "from tensorflow import keras\n",
        "\n",
        "model = Sequential()\n",
        "model.add(Embedding(len(tokenizer.word_index)+1, 100, input_length=maxlen))\n",
        "model.add(SpatialDropout1D(0.2))\n",
        "model.add(LSTM(100, dropout=0.2, recurrent_dropout=0.2))\n",
        "model.add(Dense(1, activation='sigmoid'))\n",
        "model.compile(loss='binary_crossentropy', optimizer='adam', metrics=['accuracy'])\n",
        "\n",
        "model.summary()\n",
        "keras.utils.plot_model(model, \"model.png\",show_shapes=True)\n"
      ],
      "metadata": {
        "colab": {
          "base_uri": "https://localhost:8080/",
          "height": 904
        },
        "id": "zTukIXqSILxn",
        "outputId": "06e7304b-2d88-4fc7-8295-38405e25d8fd"
      },
      "execution_count": null,
      "outputs": [
        {
          "output_type": "stream",
          "name": "stderr",
          "text": [
            "WARNING:tensorflow:Layer lstm_7 will not use cuDNN kernels since it doesn't meet the criteria. It will use a generic GPU kernel as fallback when running on GPU.\n"
          ]
        },
        {
          "output_type": "stream",
          "name": "stdout",
          "text": [
            "Model: \"sequential_7\"\n",
            "_________________________________________________________________\n",
            " Layer (type)                Output Shape              Param #   \n",
            "=================================================================\n",
            " embedding_7 (Embedding)     (None, 100, 100)          3532700   \n",
            "                                                                 \n",
            " spatial_dropout1d_7 (Spatia  (None, 100, 100)         0         \n",
            " lDropout1D)                                                     \n",
            "                                                                 \n",
            " lstm_7 (LSTM)               (None, 100)               80400     \n",
            "                                                                 \n",
            " dense_7 (Dense)             (None, 1)                 101       \n",
            "                                                                 \n",
            "=================================================================\n",
            "Total params: 3,613,201\n",
            "Trainable params: 3,613,201\n",
            "Non-trainable params: 0\n",
            "_________________________________________________________________\n"
          ]
        },
        {
          "output_type": "execute_result",
          "data": {
            "image/png": "[encoded data removed]",
            "text/plain": [
              "<IPython.core.display.Image object>"
            ]
          },
          "metadata": {},
          "execution_count": 94
        }
      ]
    },
    {
      "cell_type": "code",
      "source": [
        "optim = tf.keras.optimizers.Adam(learning_rate=1e-5, decay=1e-6)\n",
        "loss_func = tf.keras.losses.CategoricalCrossentropy()\n",
        "acc = tf.keras.metrics.CategoricalAccuracy('accuracy')\n",
        "\n",
        "model.compile(optimizer=optim, loss=loss_func, metrics=[acc])\n",
        "keras.utils.plot_model(model, \"my_first_model.png\",show_shapes=True)\n"
      ],
      "metadata": {
        "id": "PpYA5jS9Lw7q"
      },
      "execution_count": null,
      "outputs": []
    },
    {
      "cell_type": "code",
      "source": [
        "# entraînement\n",
        "early_stopping = EarlyStopping(monitor='val_loss', patience=5, verbose=1, mode='min')\n",
        "hist = model.fit(train_x, train_y, batch_size=32, epochs=5, validation_data=(test_x, test_y), callbacks=[early_stopping])\n"
      ],
      "metadata": {
        "colab": {
          "base_uri": "https://localhost:8080/"
        },
        "id": "isNpZF6RIkay",
        "outputId": "41e2e6a7-ab40-4480-a836-d061cfcc2988"
      },
      "execution_count": null,
      "outputs": [
        {
          "output_type": "stream",
          "name": "stdout",
          "text": [
            "Epoch 1/5\n",
            "250/250 [==============================] - 105s 410ms/step - loss: 0.2670 - accuracy: 0.9291 - val_loss: 0.2844 - val_accuracy: 0.9195\n",
            "Epoch 2/5\n",
            "250/250 [==============================] - 117s 467ms/step - loss: 0.2561 - accuracy: 0.9294 - val_loss: 0.2801 - val_accuracy: 0.9195\n",
            "Epoch 3/5\n",
            "250/250 [==============================] - 99s 396ms/step - loss: 0.2566 - accuracy: 0.9294 - val_loss: 0.2806 - val_accuracy: 0.9195\n",
            "Epoch 4/5\n",
            "250/250 [==============================] - 96s 382ms/step - loss: 0.2557 - accuracy: 0.9294 - val_loss: 0.2800 - val_accuracy: 0.9195\n",
            "Epoch 5/5\n",
            "250/250 [==============================] - 97s 388ms/step - loss: 0.2563 - accuracy: 0.9294 - val_loss: 0.2800 - val_accuracy: 0.9195\n"
          ]
        }
      ]
    },
    {
      "cell_type": "code",
      "source": [
        "model.save('/content/drive/MyDrive/Journee_observation/model')"
      ],
      "metadata": {
        "id": "fxlAuyGVLiSL"
      },
      "execution_count": null,
      "outputs": []
    },
    {
      "cell_type": "markdown",
      "source": [
        "# **Deploiement**"
      ],
      "metadata": {
        "id": "2CgFgDbr5ZS-"
      }
    },
    {
      "cell_type": "code",
      "source": [
        "!pip install colabcode\n",
        "!pip install fastapi\n",
        "\n",
        "from colabcode import ColabCode\n",
        "from fastapi import FastAPI\n",
        "\n",
        "import pickle\n",
        "import logging\n",
        "!pip install fastapi\n",
        "from fastapi import FastAPI\n",
        "\n",
        "from typing import Optional\n",
        "from joblib import load\n",
        "from pydantic import BaseModel\n",
        "app = FastAPI()"
      ],
      "metadata": {
        "id": "b5XI7roS5dCu"
      },
      "execution_count": null,
      "outputs": []
    },
    {
      "cell_type": "code",
      "source": [
        "cc = ColabCode(port=12000, code=False)\n",
        "app = FastAPI()\n",
        "\n",
        "\n",
        "%%writefile models.py\n",
        "from pydantic import BaseModel, conlist\n",
        "from typing import List\n",
        "\n",
        "\n",
        "class Iris(BaseModel):\n",
        "    data: List[conlist(float, min_items=4, max_items=4)]"
      ],
      "metadata": {
        "id": "rfNHT6d15l6-"
      },
      "execution_count": null,
      "outputs": []
    },
    {
      "cell_type": "code",
      "source": [
        "vector = load(\"/content/drive/MyDrive/Journee_observation/Arbredecision/vectors.joblib\")\n",
        "model = load(\"/content/drive/MyDrive/Journee_observation/Arbredecision/modelAbre.joblib\")\n",
        "\n",
        "class get_review(BaseModel):\n",
        "    review :str\n",
        "\n",
        "@app.get(\"/\")\n",
        "def read_root():\n",
        "    return {\"Hello\": \"World\"}\n",
        "\n",
        "\n",
        "@app.post(\"/prediction\")\n",
        "def get_prediction(gr:get_review):\n",
        "    text = [gr.review]\n",
        "    vec = vector.transform(text)\n",
        "    prediction = model.predict(vec)\n",
        "    prediction = int(prediction)\n",
        "    if prediction >0:\n",
        "        prediction=\"positive\"\n",
        "    else:\n",
        "        prediction = \"negative\"\n",
        "\n",
        "    return {\"sentence\":gr.review,\"prediction\":prediction}\n"
      ],
      "metadata": {
        "id": "iu0IC-nS5pIF"
      },
      "execution_count": null,
      "outputs": []
    },
    {
      "cell_type": "code",
      "source": [
        "cc.run_app(app=app)"
      ],
      "metadata": {
        "id": "LyR_Un8_5rH9"
      },
      "execution_count": null,
      "outputs": []
    }
  ]
}